{
 "cells": [
  {
   "cell_type": "code",
   "execution_count": 1,
   "metadata": {},
   "outputs": [],
   "source": [
    "import numpy as np \n",
    "import matplotlib.pyplot as plt"
   ]
  },
  {
   "cell_type": "markdown",
   "metadata": {},
   "source": [
    "y = 7x1 + 3x2"
   ]
  },
  {
   "cell_type": "raw",
   "metadata": {},
   "source": [
    "x1 | x2 | y\n",
    "1  |  1 | 10\n",
    "4  |  5 | 43"
   ]
  },
  {
   "cell_type": "code",
   "execution_count": 8,
   "metadata": {},
   "outputs": [],
   "source": [
    "x1 = 4\n",
    "x2 = 5 \n",
    "ya = 43"
   ]
  },
  {
   "cell_type": "raw",
   "metadata": {},
   "source": [
    "w1 = np.random.randint(0, 10, 1)[0]\n",
    "w2 = np.random.randint(5, 10, 1)[0]\n",
    "\n",
    "yp = x1*w1 + x2*w2"
   ]
  },
  {
   "cell_type": "raw",
   "metadata": {},
   "source": [
    "w1, w2, yp"
   ]
  },
  {
   "cell_type": "raw",
   "metadata": {},
   "source": [
    "error = (yp - ya)**2"
   ]
  },
  {
   "cell_type": "raw",
   "metadata": {},
   "source": [
    "error = (w1*x1+w2*x2 - ya)**2\n",
    "dE/dw1 = 2*(w1*x1 + w2*x2 - ya)(x1)\n",
    "dE/dw2 = 2*(w1*x1 + w2*x2 - ya)(x2)\n",
    "\n",
    "dE/dw1 = 2*(yp - ya)(x1)\n",
    "dE/dw2 = 2*(yp - ya)(x2)"
   ]
  },
  {
   "cell_type": "raw",
   "metadata": {},
   "source": [
    "w1 = w1 - dE/dw1\n",
    "w2 = w2 - dE/dw2"
   ]
  },
  {
   "cell_type": "code",
   "execution_count": 28,
   "metadata": {},
   "outputs": [
    {
     "name": "stdout",
     "output_type": "stream",
     "text": [
      "w1*x1 + w2*x2 should be equal to 43 but it is 36.160000000000004\n",
      "Value of w1: 3.04\n",
      "Value of w2: 4.800000000000001\n",
      "\n",
      "w1*x1 + w2*x2 should be equal to 43 but it is 41.7688\n",
      "Value of w1: 3.5871999999999997\n",
      "Value of w2: 5.484\n",
      "\n",
      "w1*x1 + w2*x2 should be equal to 43 but it is 42.778384\n",
      "Value of w1: 3.6856959999999996\n",
      "Value of w2: 5.60712\n",
      "\n",
      "w1*x1 + w2*x2 should be equal to 43 but it is 42.96010912\n",
      "Value of w1: 3.7034252799999994\n",
      "Value of w2: 5.6292816\n",
      "\n",
      "w1*x1 + w2*x2 should be equal to 43 but it is 42.99281964159999\n",
      "Value of w1: 3.7066165503999997\n",
      "Value of w2: 5.633270688\n",
      "\n",
      "w1*x1 + w2*x2 should be equal to 43 but it is 42.998707535487995\n",
      "Value of w1: 3.707190979072\n",
      "Value of w2: 5.63398872384\n",
      "\n",
      "w1*x1 + w2*x2 should be equal to 43 but it is 42.99976735638784\n",
      "Value of w1: 3.7072943762329604\n",
      "Value of w2: 5.6341179702912\n",
      "\n",
      "w1*x1 + w2*x2 should be equal to 43 but it is 42.99995812414981\n",
      "Value of w1: 3.707312987721933\n",
      "Value of w2: 5.634141234652416\n",
      "\n",
      "w1*x1 + w2*x2 should be equal to 43 but it is 42.99999246234697\n",
      "Value of w1: 3.707316337789948\n",
      "Value of w2: 5.6341454222374345\n",
      "\n",
      "w1*x1 + w2*x2 should be equal to 43 but it is 42.999998643222455\n",
      "Value of w1: 3.707316940802191\n",
      "Value of w2: 5.634146176002738\n",
      "\n"
     ]
    }
   ],
   "source": [
    "w1 = np.random.randint(0, 5, 1)[0]\n",
    "w2 = np.random.randint(0, 10, 1)[0]\n",
    "lr = 0.01 # Learning Rate\n",
    "\n",
    "for epoch in range(10):\n",
    "    yp = w1*x1 + w2*x2\n",
    "    error = (yp - ya)**2\n",
    "    dEdw1 = 2*(yp - ya)*(x1)\n",
    "    dEdw2 = 2*(yp - ya)*(x2)\n",
    "    \n",
    "    w1 = w1 - lr*dEdw1\n",
    "    w2 = w2 - lr*dEdw2\n",
    "    print(f\"w1*x1 + w2*x2 should be equal to 43 but it is {w1*x1+w2*x2}\")\n",
    "    print(f\"Value of w1: {w1}\")\n",
    "    print(f\"Value of w2: {w2}\" + \"\\n\")\n",
    "    "
   ]
  },
  {
   "cell_type": "code",
   "execution_count": null,
   "metadata": {},
   "outputs": [],
   "source": []
  },
  {
   "cell_type": "code",
   "execution_count": null,
   "metadata": {},
   "outputs": [],
   "source": []
  }
 ],
 "metadata": {
  "kernelspec": {
   "display_name": "Python 3",
   "language": "python",
   "name": "python3"
  },
  "language_info": {
   "codemirror_mode": {
    "name": "ipython",
    "version": 3
   },
   "file_extension": ".py",
   "mimetype": "text/x-python",
   "name": "python",
   "nbconvert_exporter": "python",
   "pygments_lexer": "ipython3",
   "version": "3.7.6"
  }
 },
 "nbformat": 4,
 "nbformat_minor": 4
}
