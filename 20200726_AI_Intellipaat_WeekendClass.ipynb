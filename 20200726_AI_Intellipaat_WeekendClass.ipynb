{
  "nbformat": 4,
  "nbformat_minor": 0,
  "metadata": {
    "colab": {
      "name": "20200726_AI_Intellipaat_WeekendClass.ipynb",
      "provenance": [],
      "collapsed_sections": []
    },
    "kernelspec": {
      "name": "python3",
      "display_name": "Python 3"
    },
    "accelerator": "GPU"
  },
  "cells": [
    {
      "cell_type": "code",
      "metadata": {
        "id": "dW0olcjPkrAz",
        "colab_type": "code",
        "colab": {}
      },
      "source": [
        "%tensorflow_version 2.x "
      ],
      "execution_count": 1,
      "outputs": []
    },
    {
      "cell_type": "code",
      "metadata": {
        "id": "2LuVAQuMk-mD",
        "colab_type": "code",
        "colab": {}
      },
      "source": [
        "from tensorflow import keras"
      ],
      "execution_count": 2,
      "outputs": []
    },
    {
      "cell_type": "code",
      "metadata": {
        "id": "qglSNXsQlE5h",
        "colab_type": "code",
        "colab": {
          "base_uri": "https://localhost:8080/",
          "height": 35
        },
        "outputId": "b8aa50ba-257d-4763-a8e5-79cd4ab8c05f"
      },
      "source": [
        "keras.__version__"
      ],
      "execution_count": 3,
      "outputs": [
        {
          "output_type": "execute_result",
          "data": {
            "application/vnd.google.colaboratory.intrinsic+json": {
              "type": "string"
            },
            "text/plain": [
              "'2.3.0-tf'"
            ]
          },
          "metadata": {
            "tags": []
          },
          "execution_count": 3
        }
      ]
    },
    {
      "cell_type": "code",
      "metadata": {
        "id": "T3Qln6r-lLDE",
        "colab_type": "code",
        "colab": {}
      },
      "source": [
        "import tensorflow as tf"
      ],
      "execution_count": 5,
      "outputs": []
    },
    {
      "cell_type": "code",
      "metadata": {
        "id": "pM1enWeJlOC1",
        "colab_type": "code",
        "colab": {
          "base_uri": "https://localhost:8080/",
          "height": 35
        },
        "outputId": "571517a2-3425-418c-c1a7-962f4361b109"
      },
      "source": [
        "tf.__version__"
      ],
      "execution_count": 6,
      "outputs": [
        {
          "output_type": "execute_result",
          "data": {
            "application/vnd.google.colaboratory.intrinsic+json": {
              "type": "string"
            },
            "text/plain": [
              "'2.2.0'"
            ]
          },
          "metadata": {
            "tags": []
          },
          "execution_count": 6
        }
      ]
    },
    {
      "cell_type": "code",
      "metadata": {
        "id": "YzhzCJehlRxN",
        "colab_type": "code",
        "colab": {}
      },
      "source": [
        "(x_train, y_train),(x_test, y_test) = keras.datasets.mnist.load_data()"
      ],
      "execution_count": 32,
      "outputs": []
    },
    {
      "cell_type": "code",
      "metadata": {
        "id": "ZzOO-buVlnj7",
        "colab_type": "code",
        "colab": {}
      },
      "source": [
        "# x_train -> images for training = 60K\n",
        "# y_train -> labels for training = 60K\n",
        "# x_test -> images for testing = 10K\n",
        "# y_test -> labels for testing = 10K"
      ],
      "execution_count": null,
      "outputs": []
    },
    {
      "cell_type": "code",
      "metadata": {
        "id": "7_-HwXi9l4Io",
        "colab_type": "code",
        "colab": {
          "base_uri": "https://localhost:8080/",
          "height": 34
        },
        "outputId": "09cb2172-a7d1-42e6-bf8b-311a373f5361"
      },
      "source": [
        "x_train.shape\n",
        "# 60000 = number of images\n",
        "# 28 x 28 = dimensions per image"
      ],
      "execution_count": 8,
      "outputs": [
        {
          "output_type": "execute_result",
          "data": {
            "text/plain": [
              "(60000, 28, 28)"
            ]
          },
          "metadata": {
            "tags": []
          },
          "execution_count": 8
        }
      ]
    },
    {
      "cell_type": "code",
      "metadata": {
        "id": "3nKGezrPnvHA",
        "colab_type": "code",
        "colab": {}
      },
      "source": [
        "\"\"\"\n",
        "(60000, 28, 28, 3) - for RGB images\n",
        "\"\"\""
      ],
      "execution_count": null,
      "outputs": []
    },
    {
      "cell_type": "code",
      "metadata": {
        "id": "0_uiQhexnvKa",
        "colab_type": "code",
        "colab": {}
      },
      "source": [
        ""
      ],
      "execution_count": null,
      "outputs": []
    },
    {
      "cell_type": "code",
      "metadata": {
        "id": "CmQY8_PBl7-S",
        "colab_type": "code",
        "colab": {
          "base_uri": "https://localhost:8080/",
          "height": 34
        },
        "outputId": "241c14c9-cd92-4efe-900c-ea7bb952e0c3"
      },
      "source": [
        "y_train.shape\n",
        "# 60000 = number of labels"
      ],
      "execution_count": 9,
      "outputs": [
        {
          "output_type": "execute_result",
          "data": {
            "text/plain": [
              "(60000,)"
            ]
          },
          "metadata": {
            "tags": []
          },
          "execution_count": 9
        }
      ]
    },
    {
      "cell_type": "code",
      "metadata": {
        "id": "YVBMeVpYmFyu",
        "colab_type": "code",
        "colab": {}
      },
      "source": [
        "import matplotlib.pyplot as plt"
      ],
      "execution_count": 11,
      "outputs": []
    },
    {
      "cell_type": "code",
      "metadata": {
        "id": "6JY463SimQhs",
        "colab_type": "code",
        "colab": {
          "base_uri": "https://localhost:8080/",
          "height": 282
        },
        "outputId": "35508074-7277-4c7a-e3e7-b1ffe14617b2"
      },
      "source": [
        "plt.imshow(x_train[0])\n",
        "print(y_train[0])"
      ],
      "execution_count": 12,
      "outputs": [
        {
          "output_type": "stream",
          "text": [
            "5\n"
          ],
          "name": "stdout"
        },
        {
          "output_type": "display_data",
          "data": {
            "image/png": "[encoded data removed]",
            "text/plain": [
              "<Figure size 432x288 with 1 Axes>"
            ]
          },
          "metadata": {
            "tags": [],
            "needs_background": "light"
          }
        }
      ]
    },
    {
      "cell_type": "code",
      "metadata": {
        "id": "rSIlZBoBnNMS",
        "colab_type": "code",
        "colab": {
          "base_uri": "https://localhost:8080/",
          "height": 282
        },
        "outputId": "d16554bd-622f-4ab9-e35f-82c4a4de7d8f"
      },
      "source": [
        "plt.imshow(x_train[45000])\n",
        "print(y_train[45000])"
      ],
      "execution_count": 16,
      "outputs": [
        {
          "output_type": "stream",
          "text": [
            "[0. 0. 0. 1. 0. 0. 0. 0. 0. 0.]\n"
          ],
          "name": "stdout"
        },
        {
          "output_type": "display_data",
          "data": {
            "image/png": "[encoded data removed]",
            "text/plain": [
              "<Figure size 432x288 with 1 Axes>"
            ]
          },
          "metadata": {
            "tags": [],
            "needs_background": "light"
          }
        }
      ]
    },
    {
      "cell_type": "code",
      "metadata": {
        "id": "Ef7LKtfUnd-h",
        "colab_type": "code",
        "colab": {}
      },
      "source": [
        "\"\"\" Data Pre-Processing\n",
        "\n",
        "Images: Scaling (using MinMaxScaling)\n",
        "Labels: Categorical (OneHotEncoding using to_categorical function)\n",
        "\n",
        "\"\"\""
      ],
      "execution_count": null,
      "outputs": []
    },
    {
      "cell_type": "code",
      "metadata": {
        "id": "-Xvl77wOooaz",
        "colab_type": "code",
        "colab": {}
      },
      "source": [
        "x_train = x_train / 255.0"
      ],
      "execution_count": 14,
      "outputs": []
    },
    {
      "cell_type": "code",
      "metadata": {
        "id": "PvxSZU_2oodY",
        "colab_type": "code",
        "colab": {}
      },
      "source": [
        "y_train = keras.utils.to_categorical(y_train)"
      ],
      "execution_count": 15,
      "outputs": []
    },
    {
      "cell_type": "code",
      "metadata": {
        "id": "0EhJpg8mo4hE",
        "colab_type": "code",
        "colab": {}
      },
      "source": [
        "\n",
        "# y_test = keras.utils.to_categorical(y_test)"
      ],
      "execution_count": 17,
      "outputs": []
    },
    {
      "cell_type": "code",
      "metadata": {
        "id": "DU4DU_keo8OC",
        "colab_type": "code",
        "colab": {}
      },
      "source": [
        "# Completed Preprocessing\n",
        "# Start Modeling now"
      ],
      "execution_count": null,
      "outputs": []
    },
    {
      "cell_type": "code",
      "metadata": {
        "id": "Dv_lH_mNo8Qp",
        "colab_type": "code",
        "colab": {
          "base_uri": "https://localhost:8080/",
          "height": 255
        },
        "outputId": "e3d9aec4-929e-4a4b-88c2-057024919554"
      },
      "source": [
        "model = keras.models.Sequential()\n",
        "\n",
        "# Input Layer\n",
        "\n",
        "## Flatten the input images\n",
        "\n",
        "model.add(keras.layers.Flatten( input_shape = (28, 28) ))\n",
        "\n",
        "# Add Hidden Layer(s) -- uses relu\n",
        "\n",
        "## Always try to take the # of neurons as the power of 2. \n",
        "## Image shape after flattened = 784\n",
        "## 2 to power 8 = 512\n",
        "\n",
        "model.add(keras.layers.Dense(512, activation=keras.activations.relu)) # First Hidden Layer\n",
        "\n",
        "# model.add(keras.layers.Dense(256, activation=keras.activations.relu)) # Second Hidden Layer - not needed here!\n",
        "\n",
        "# Output Layer -- uses softmax\n",
        "model.add(keras.layers.Dense(10, activation=keras.activations.softmax))\n",
        "\n",
        "model.summary()\n",
        "\n"
      ],
      "execution_count": 30,
      "outputs": [
        {
          "output_type": "stream",
          "text": [
            "Model: \"sequential_3\"\n",
            "_________________________________________________________________\n",
            "Layer (type)                 Output Shape              Param #   \n",
            "=================================================================\n",
            "flatten_3 (Flatten)          (None, 784)               0         \n",
            "_________________________________________________________________\n",
            "dense_7 (Dense)              (None, 512)               401920    \n",
            "_________________________________________________________________\n",
            "dense_8 (Dense)              (None, 10)                5130      \n",
            "=================================================================\n",
            "Total params: 407,050\n",
            "Trainable params: 407,050\n",
            "Non-trainable params: 0\n",
            "_________________________________________________________________\n"
          ],
          "name": "stdout"
        }
      ]
    },
    {
      "cell_type": "code",
      "metadata": {
        "id": "McntIi_QvEJo",
        "colab_type": "code",
        "colab": {
          "base_uri": "https://localhost:8080/",
          "height": 34
        },
        "outputId": "105db9b2-0c56-455c-e3fc-0e1bbf67e4c3"
      },
      "source": [
        "784*512 + 512 # 784 x 512 = Weights ; 512 = Biases"
      ],
      "execution_count": 20,
      "outputs": [
        {
          "output_type": "execute_result",
          "data": {
            "text/plain": [
              "401920"
            ]
          },
          "metadata": {
            "tags": []
          },
          "execution_count": 20
        }
      ]
    },
    {
      "cell_type": "code",
      "metadata": {
        "id": "ZYXK5oZatkTQ",
        "colab_type": "code",
        "colab": {
          "base_uri": "https://localhost:8080/",
          "height": 34
        },
        "outputId": "dd6fa149-78db-4224-9247-ce9e808c2625"
      },
      "source": [
        "512 * 10 + 10 # 512 x 10 = Weights ; 10 = Biases"
      ],
      "execution_count": 21,
      "outputs": [
        {
          "output_type": "execute_result",
          "data": {
            "text/plain": [
              "5130"
            ]
          },
          "metadata": {
            "tags": []
          },
          "execution_count": 21
        }
      ]
    },
    {
      "cell_type": "code",
      "metadata": {
        "id": "u6PqduJevQS8",
        "colab_type": "code",
        "colab": {
          "base_uri": "https://localhost:8080/",
          "height": 34
        },
        "outputId": "01bd879e-c20f-4f9f-8fa3-d54b00dad53f"
      },
      "source": [
        "401920 + 5130"
      ],
      "execution_count": 22,
      "outputs": [
        {
          "output_type": "execute_result",
          "data": {
            "text/plain": [
              "407050"
            ]
          },
          "metadata": {
            "tags": []
          },
          "execution_count": 22
        }
      ]
    },
    {
      "cell_type": "code",
      "metadata": {
        "id": "BcGflhd8wJP8",
        "colab_type": "code",
        "colab": {
          "base_uri": "https://localhost:8080/",
          "height": 34
        },
        "outputId": "e9cfeaa5-ac26-431e-958b-f946dc760ec1"
      },
      "source": [
        "60000*784 # Total # of Inputs"
      ],
      "execution_count": 23,
      "outputs": [
        {
          "output_type": "execute_result",
          "data": {
            "text/plain": [
              "47040000"
            ]
          },
          "metadata": {
            "tags": []
          },
          "execution_count": 23
        }
      ]
    },
    {
      "cell_type": "code",
      "metadata": {
        "id": "gxUTiQxPwcje",
        "colab_type": "code",
        "colab": {
          "base_uri": "https://localhost:8080/",
          "height": 374
        },
        "outputId": "c889bc43-cf0e-42c7-bb4d-b74894b85603"
      },
      "source": [
        "\n",
        "model.compile(optimizer=keras.optimizers.SGD() , loss= keras.losses.categorical_crossentropy, metrics=['acc'])\n",
        "\n",
        "# categorical, binary, sparse - important entropies\n",
        "\n",
        "model.fit(x_train, y_train, epochs = 10,batch_size=64)\n"
      ],
      "execution_count": 31,
      "outputs": [
        {
          "output_type": "stream",
          "text": [
            "Epoch 1/10\n",
            "938/938 [==============================] - 2s 2ms/step - loss: 0.8101 - acc: 0.8155\n",
            "Epoch 2/10\n",
            "938/938 [==============================] - 2s 2ms/step - loss: 0.3941 - acc: 0.8960\n",
            "Epoch 3/10\n",
            "938/938 [==============================] - 2s 2ms/step - loss: 0.3326 - acc: 0.9091\n",
            "Epoch 4/10\n",
            "938/938 [==============================] - 2s 2ms/step - loss: 0.3002 - acc: 0.9171\n",
            "Epoch 5/10\n",
            "938/938 [==============================] - 2s 2ms/step - loss: 0.2777 - acc: 0.9226\n",
            "Epoch 6/10\n",
            "938/938 [==============================] - 2s 2ms/step - loss: 0.2601 - acc: 0.9277\n",
            "Epoch 7/10\n",
            "938/938 [==============================] - 2s 2ms/step - loss: 0.2453 - acc: 0.9320\n",
            "Epoch 8/10\n",
            "938/938 [==============================] - 2s 2ms/step - loss: 0.2325 - acc: 0.9355\n",
            "Epoch 9/10\n",
            "938/938 [==============================] - 2s 2ms/step - loss: 0.2214 - acc: 0.9387\n",
            "Epoch 10/10\n",
            "938/938 [==============================] - 2s 2ms/step - loss: 0.2112 - acc: 0.9418\n"
          ],
          "name": "stdout"
        },
        {
          "output_type": "execute_result",
          "data": {
            "text/plain": [
              "<tensorflow.python.keras.callbacks.History at 0x7f38d6539a58>"
            ]
          },
          "metadata": {
            "tags": []
          },
          "execution_count": 31
        }
      ]
    },
    {
      "cell_type": "code",
      "metadata": {
        "id": "MqS3C1Gk-mwa",
        "colab_type": "code",
        "colab": {
          "base_uri": "https://localhost:8080/",
          "height": 34
        },
        "outputId": "acbb6f9a-4584-4ab6-e89d-9bb271384a90"
      },
      "source": [
        "937.5*64"
      ],
      "execution_count": 60,
      "outputs": [
        {
          "output_type": "execute_result",
          "data": {
            "text/plain": [
              "60000.0"
            ]
          },
          "metadata": {
            "tags": []
          },
          "execution_count": 60
        }
      ]
    },
    {
      "cell_type": "code",
      "metadata": {
        "id": "g-xrSJHXz523",
        "colab_type": "code",
        "colab": {}
      },
      "source": [
        "??model.fit"
      ],
      "execution_count": 27,
      "outputs": []
    },
    {
      "cell_type": "code",
      "metadata": {
        "id": "7VQfs25kzFFf",
        "colab_type": "code",
        "colab": {
          "base_uri": "https://localhost:8080/",
          "height": 34
        },
        "outputId": "aae7ebaa-ff0a-4e5c-91bc-0ae92449d29d"
      },
      "source": [
        "60000/64"
      ],
      "execution_count": 29,
      "outputs": [
        {
          "output_type": "execute_result",
          "data": {
            "text/plain": [
              "937.5"
            ]
          },
          "metadata": {
            "tags": []
          },
          "execution_count": 29
        }
      ]
    },
    {
      "cell_type": "code",
      "metadata": {
        "id": "5EuodQst0vtx",
        "colab_type": "code",
        "colab": {}
      },
      "source": [
        "x_test = x_test / 255.0"
      ],
      "execution_count": 33,
      "outputs": []
    },
    {
      "cell_type": "code",
      "metadata": {
        "id": "tvXb_ObC3_VO",
        "colab_type": "code",
        "colab": {
          "base_uri": "https://localhost:8080/",
          "height": 282
        },
        "outputId": "c1bfe961-36b0-4d37-b84d-af5f8a7c62a9"
      },
      "source": [
        "plt.imshow(x_test[0])\n",
        "\n",
        "print(y_test[0])"
      ],
      "execution_count": 35,
      "outputs": [
        {
          "output_type": "stream",
          "text": [
            "7\n"
          ],
          "name": "stdout"
        },
        {
          "output_type": "display_data",
          "data": {
            "image/png": "[encoded data removed]",
            "text/plain": [
              "<Figure size 432x288 with 1 Axes>"
            ]
          },
          "metadata": {
            "tags": [],
            "needs_background": "light"
          }
        }
      ]
    },
    {
      "cell_type": "code",
      "metadata": {
        "id": "hU75ljKJ4VUg",
        "colab_type": "code",
        "colab": {
          "base_uri": "https://localhost:8080/",
          "height": 34
        },
        "outputId": "0168e3a6-bbe4-4093-f266-aa1cc0630a96"
      },
      "source": [
        "model.input_shape"
      ],
      "execution_count": 37,
      "outputs": [
        {
          "output_type": "execute_result",
          "data": {
            "text/plain": [
              "(None, 28, 28)"
            ]
          },
          "metadata": {
            "tags": []
          },
          "execution_count": 37
        }
      ]
    },
    {
      "cell_type": "code",
      "metadata": {
        "id": "bXQXnUK54mf2",
        "colab_type": "code",
        "colab": {}
      },
      "source": [
        "import numpy as np"
      ],
      "execution_count": 38,
      "outputs": []
    },
    {
      "cell_type": "code",
      "metadata": {
        "id": "pi9PsO7a4rfo",
        "colab_type": "code",
        "colab": {}
      },
      "source": [
        "testimage = np.expand_dims(x_test[0], axis=0)  # Introduces more dimensionality to the data"
      ],
      "execution_count": 39,
      "outputs": []
    },
    {
      "cell_type": "code",
      "metadata": {
        "id": "ikCRw2_X41kl",
        "colab_type": "code",
        "colab": {
          "base_uri": "https://localhost:8080/",
          "height": 34
        },
        "outputId": "888800bf-97c6-48fe-8825-3347feb51c5a"
      },
      "source": [
        "x_test[0].shape, testimage.shape"
      ],
      "execution_count": 41,
      "outputs": [
        {
          "output_type": "execute_result",
          "data": {
            "text/plain": [
              "((28, 28), (1, 28, 28))"
            ]
          },
          "metadata": {
            "tags": []
          },
          "execution_count": 41
        }
      ]
    },
    {
      "cell_type": "code",
      "metadata": {
        "id": "posDETUm4C0y",
        "colab_type": "code",
        "colab": {
          "base_uri": "https://localhost:8080/",
          "height": 68
        },
        "outputId": "674b75c5-d886-44bb-f009-e005d6beb884"
      },
      "source": [
        "\n",
        "\n",
        "model.predict(testimage)"
      ],
      "execution_count": 42,
      "outputs": [
        {
          "output_type": "execute_result",
          "data": {
            "text/plain": [
              "array([[1.0315658e-04, 5.3372071e-07, 4.3825366e-04, 2.2027565e-03,\n",
              "        1.4837909e-06, 5.0754796e-05, 5.1676462e-08, 9.9681562e-01,\n",
              "        2.3523848e-05, 3.6388714e-04]], dtype=float32)"
            ]
          },
          "metadata": {
            "tags": []
          },
          "execution_count": 42
        }
      ]
    },
    {
      "cell_type": "code",
      "metadata": {
        "id": "0rXGoyi44Opz",
        "colab_type": "code",
        "colab": {
          "base_uri": "https://localhost:8080/",
          "height": 34
        },
        "outputId": "c3ba16e5-32d8-4c79-cc4a-f1bd67421377"
      },
      "source": [
        "np.argmax(model.predict(testimage))"
      ],
      "execution_count": 43,
      "outputs": [
        {
          "output_type": "execute_result",
          "data": {
            "text/plain": [
              "7"
            ]
          },
          "metadata": {
            "tags": []
          },
          "execution_count": 43
        }
      ]
    },
    {
      "cell_type": "code",
      "metadata": {
        "id": "oEd-5qDU58ZY",
        "colab_type": "code",
        "colab": {
          "base_uri": "https://localhost:8080/",
          "height": 34
        },
        "outputId": "d048b3f6-cdc7-407f-8a42-46ad52589431"
      },
      "source": [
        "x_test.shape "
      ],
      "execution_count": 44,
      "outputs": [
        {
          "output_type": "execute_result",
          "data": {
            "text/plain": [
              "(10000, 28, 28)"
            ]
          },
          "metadata": {
            "tags": []
          },
          "execution_count": 44
        }
      ]
    },
    {
      "cell_type": "code",
      "metadata": {
        "id": "4PjZKpjC5pdE",
        "colab_type": "code",
        "colab": {}
      },
      "source": [
        "y_predicted = model.predict(x_test) "
      ],
      "execution_count": 45,
      "outputs": []
    },
    {
      "cell_type": "code",
      "metadata": {
        "id": "P6HSwKWX6CTc",
        "colab_type": "code",
        "colab": {
          "base_uri": "https://localhost:8080/",
          "height": 238
        },
        "outputId": "25960213-0f33-41b4-dd30-c624e5a39fd5"
      },
      "source": [
        "y_predicted"
      ],
      "execution_count": 46,
      "outputs": [
        {
          "output_type": "execute_result",
          "data": {
            "text/plain": [
              "array([[1.03156475e-04, 5.33720197e-07, 4.38253221e-04, ...,\n",
              "        9.96815622e-01, 2.35238240e-05, 3.63886938e-04],\n",
              "       [1.30915549e-03, 4.07390799e-05, 9.76572692e-01, ...,\n",
              "        1.36560026e-08, 1.11680769e-03, 1.62966629e-07],\n",
              "       [6.06786089e-05, 9.70215917e-01, 1.09124985e-02, ...,\n",
              "        5.98844141e-03, 5.04614506e-03, 7.49018916e-04],\n",
              "       ...,\n",
              "       [9.33782133e-07, 1.32628884e-06, 2.86006816e-05, ...,\n",
              "        1.02265645e-03, 5.98612521e-03, 2.58961674e-02],\n",
              "       [2.44540657e-04, 2.55596387e-04, 3.69872869e-05, ...,\n",
              "        1.21597732e-05, 1.75053719e-02, 3.82069447e-05],\n",
              "       [7.66906014e-05, 1.35612250e-08, 4.07994085e-04, ...,\n",
              "        4.79509410e-09, 1.33845458e-06, 7.05155543e-08]], dtype=float32)"
            ]
          },
          "metadata": {
            "tags": []
          },
          "execution_count": 46
        }
      ]
    },
    {
      "cell_type": "code",
      "metadata": {
        "id": "CM4BUr4i6JGk",
        "colab_type": "code",
        "colab": {
          "base_uri": "https://localhost:8080/",
          "height": 68
        },
        "outputId": "bb60ae2c-a58b-4f02-85ce-6fd6945dfa8a"
      },
      "source": [
        "y_predicted[0]"
      ],
      "execution_count": 47,
      "outputs": [
        {
          "output_type": "execute_result",
          "data": {
            "text/plain": [
              "array([1.03156475e-04, 5.33720197e-07, 4.38253221e-04, 2.20275554e-03,\n",
              "       1.48378956e-06, 5.07547447e-05, 5.16764622e-08, 9.96815622e-01,\n",
              "       2.35238240e-05, 3.63886938e-04], dtype=float32)"
            ]
          },
          "metadata": {
            "tags": []
          },
          "execution_count": 47
        }
      ]
    },
    {
      "cell_type": "code",
      "metadata": {
        "id": "8FNAH4vC6Lbn",
        "colab_type": "code",
        "colab": {
          "base_uri": "https://localhost:8080/",
          "height": 34
        },
        "outputId": "c8334e65-f301-45a4-990b-10f6035082f8"
      },
      "source": [
        "np.argmax(y_predicted[0])"
      ],
      "execution_count": 48,
      "outputs": [
        {
          "output_type": "execute_result",
          "data": {
            "text/plain": [
              "7"
            ]
          },
          "metadata": {
            "tags": []
          },
          "execution_count": 48
        }
      ]
    },
    {
      "cell_type": "code",
      "metadata": {
        "id": "896h7WqA6UsZ",
        "colab_type": "code",
        "colab": {}
      },
      "source": [
        "y_pred = np.argmax(y_predicted, axis=1) # axis = 1 runs the function on each row"
      ],
      "execution_count": 51,
      "outputs": []
    },
    {
      "cell_type": "code",
      "metadata": {
        "id": "w2Y97Mt36Z2t",
        "colab_type": "code",
        "colab": {
          "base_uri": "https://localhost:8080/",
          "height": 34
        },
        "outputId": "81b831e4-be9a-4407-9b70-04e42aa6088f"
      },
      "source": [
        "(y_pred == y_test)"
      ],
      "execution_count": 52,
      "outputs": [
        {
          "output_type": "execute_result",
          "data": {
            "text/plain": [
              "array([ True,  True,  True, ...,  True,  True,  True])"
            ]
          },
          "metadata": {
            "tags": []
          },
          "execution_count": 52
        }
      ]
    },
    {
      "cell_type": "code",
      "metadata": {
        "id": "dSf16AbI69kq",
        "colab_type": "code",
        "colab": {
          "base_uri": "https://localhost:8080/",
          "height": 34
        },
        "outputId": "da5f58f7-a77e-426b-e753-c352dee0dd74"
      },
      "source": [
        "(y_pred == y_test).sum()"
      ],
      "execution_count": 54,
      "outputs": [
        {
          "output_type": "execute_result",
          "data": {
            "text/plain": [
              "9407"
            ]
          },
          "metadata": {
            "tags": []
          },
          "execution_count": 54
        }
      ]
    },
    {
      "cell_type": "code",
      "metadata": {
        "id": "mny9idt77GSS",
        "colab_type": "code",
        "colab": {}
      },
      "source": [
        "# 94.07% accurate"
      ],
      "execution_count": null,
      "outputs": []
    },
    {
      "cell_type": "code",
      "metadata": {
        "id": "Y2mLviyQ7PoO",
        "colab_type": "code",
        "colab": {
          "base_uri": "https://localhost:8080/",
          "height": 935
        },
        "outputId": "98975a85-e66e-4c9b-e906-cd559cbab249"
      },
      "source": [
        "np.where(y_pred != y_test)"
      ],
      "execution_count": 55,
      "outputs": [
        {
          "output_type": "execute_result",
          "data": {
            "text/plain": [
              "(array([   8,   33,   92,  124,  149,  233,  241,  247,  259,  300,  313,\n",
              "         318,  320,  321,  340,  341,  352,  362,  381,  412,  435,  444,\n",
              "         445,  448,  449,  479,  495,  502,  507,  511,  531,  543,  551,\n",
              "         565,  578,  582,  591,  613,  619,  627,  628,  629,  659,  684,\n",
              "         689,  691,  707,  717,  720,  740,  760,  839,  844,  881,  882,\n",
              "         890,  898,  924,  938,  939,  947,  950,  951,  956,  959,  965,\n",
              "         982, 1014, 1032, 1039, 1044, 1062, 1068, 1073, 1082, 1096, 1107,\n",
              "        1112, 1114, 1119, 1128, 1173, 1181, 1182, 1192, 1194, 1198, 1204,\n",
              "        1206, 1224, 1226, 1232, 1234, 1242, 1247, 1256, 1260, 1270, 1283,\n",
              "        1289, 1299, 1310, 1319, 1325, 1326, 1328, 1337, 1378, 1391, 1393,\n",
              "        1410, 1413, 1429, 1433, 1440, 1444, 1466, 1467, 1494, 1500, 1522,\n",
              "        1525, 1527, 1530, 1549, 1553, 1559, 1569, 1581, 1587, 1609, 1634,\n",
              "        1640, 1681, 1709, 1717, 1718, 1751, 1754, 1765, 1772, 1773, 1790,\n",
              "        1800, 1813, 1828, 1850, 1857, 1865, 1868, 1878, 1880, 1883, 1901,\n",
              "        1930, 1938, 1940, 1952, 1970, 1981, 1984, 2016, 2024, 2035, 2040,\n",
              "        2043, 2044, 2053, 2063, 2070, 2093, 2098, 2109, 2118, 2129, 2130,\n",
              "        2135, 2148, 2174, 2182, 2185, 2186, 2189, 2215, 2266, 2272, 2293,\n",
              "        2299, 2305, 2325, 2369, 2371, 2380, 2387, 2393, 2394, 2395, 2406,\n",
              "        2408, 2422, 2425, 2433, 2488, 2514, 2526, 2534, 2545, 2573, 2574,\n",
              "        2598, 2607, 2610, 2631, 2648, 2654, 2695, 2751, 2760, 2771, 2780,\n",
              "        2832, 2863, 2866, 2896, 2906, 2925, 2927, 2945, 2953, 2995, 3005,\n",
              "        3060, 3073, 3108, 3110, 3117, 3130, 3133, 3136, 3145, 3167, 3189,\n",
              "        3206, 3240, 3269, 3284, 3316, 3329, 3330, 3333, 3369, 3405, 3422,\n",
              "        3437, 3475, 3490, 3503, 3520, 3549, 3550, 3558, 3559, 3567, 3573,\n",
              "        3597, 3604, 3629, 3662, 3664, 3681, 3716, 3718, 3725, 3726, 3730,\n",
              "        3751, 3757, 3767, 3776, 3780, 3796, 3801, 3806, 3808, 3811, 3817,\n",
              "        3821, 3836, 3838, 3846, 3848, 3853, 3855, 3862, 3869, 3876, 3893,\n",
              "        3902, 3906, 3926, 3941, 3943, 3946, 3951, 3962, 3976, 3985, 4000,\n",
              "        4017, 4044, 4063, 4065, 4072, 4075, 4078, 4093, 4131, 4140, 4152,\n",
              "        4163, 4176, 4199, 4201, 4205, 4211, 4212, 4224, 4238, 4248, 4289,\n",
              "        4300, 4306, 4313, 4317, 4341, 4344, 4355, 4356, 4369, 4374, 4433,\n",
              "        4435, 4449, 4451, 4477, 4497, 4498, 4500, 4521, 4523, 4536, 4540,\n",
              "        4567, 4571, 4575, 4578, 4601, 4615, 4635, 4639, 4731, 4735, 4740,\n",
              "        4751, 4761, 4785, 4807, 4808, 4814, 4823, 4827, 4837, 4874, 4876,\n",
              "        4879, 4880, 4886, 4890, 4939, 4943, 4950, 4952, 4956, 4966, 4990,\n",
              "        5065, 5067, 5068, 5078, 5140, 5176, 5183, 5210, 5246, 5288, 5331,\n",
              "        5457, 5600, 5611, 5617, 5620, 5634, 5642, 5714, 5734, 5736, 5749,\n",
              "        5757, 5835, 5842, 5887, 5888, 5891, 5912, 5913, 5922, 5926, 5936,\n",
              "        5955, 5972, 5973, 6023, 6035, 6037, 6045, 6059, 6065, 6071, 6081,\n",
              "        6091, 6093, 6157, 6166, 6172, 6173, 6347, 6391, 6425, 6426, 6505,\n",
              "        6511, 6517, 6555, 6560, 6568, 6571, 6597, 6598, 6603, 6624, 6625,\n",
              "        6632, 6641, 6651, 6706, 6721, 6740, 6744, 6746, 6769, 6785, 6796,\n",
              "        6847, 6926, 6945, 7121, 7130, 7220, 7338, 7432, 7434, 7451, 7459,\n",
              "        7472, 7492, 7498, 7539, 7545, 7637, 7797, 7800, 7812, 7821, 7839,\n",
              "        7847, 7849, 7851, 7857, 7858, 7859, 7886, 7888, 7899, 7917, 7918,\n",
              "        7928, 7945, 7990, 8020, 8062, 8081, 8091, 8094, 8095, 8183, 8196,\n",
              "        8246, 8272, 8277, 8279, 8294, 8332, 8339, 8406, 8408, 8410, 8520,\n",
              "        8522, 8863, 9007, 9009, 9010, 9013, 9015, 9016, 9019, 9024, 9036,\n",
              "        9045, 9071, 9209, 9211, 9245, 9280, 9316, 9426, 9427, 9446, 9482,\n",
              "        9538, 9544, 9587, 9595, 9624, 9634, 9642, 9643, 9662, 9679, 9698,\n",
              "        9700, 9712, 9716, 9719, 9729, 9732, 9733, 9738, 9741, 9744, 9745,\n",
              "        9749, 9751, 9752, 9755, 9764, 9768, 9770, 9777, 9779, 9792, 9808,\n",
              "        9811, 9839, 9840, 9856, 9858, 9867, 9879, 9883, 9888, 9890, 9892,\n",
              "        9893, 9905, 9925, 9943, 9944, 9970, 9975, 9980, 9982, 9986]),)"
            ]
          },
          "metadata": {
            "tags": []
          },
          "execution_count": 55
        }
      ]
    },
    {
      "cell_type": "code",
      "metadata": {
        "id": "-iGcHkk27lGX",
        "colab_type": "code",
        "colab": {
          "base_uri": "https://localhost:8080/",
          "height": 299
        },
        "outputId": "ee6b64a0-9040-4fbe-b824-33d77b687197"
      },
      "source": [
        "plt.imshow(x_test[8])\n",
        "print(y_test[8])\n",
        "print(y_pred[8])"
      ],
      "execution_count": 56,
      "outputs": [
        {
          "output_type": "stream",
          "text": [
            "5\n",
            "6\n"
          ],
          "name": "stdout"
        },
        {
          "output_type": "display_data",
          "data": {
            "image/png": "[encoded data removed]",
            "text/plain": [
              "<Figure size 432x288 with 1 Axes>"
            ]
          },
          "metadata": {
            "tags": [],
            "needs_background": "light"
          }
        }
      ]
    },
    {
      "cell_type": "code",
      "metadata": {
        "id": "TVIWz2ri-RKY",
        "colab_type": "code",
        "colab": {
          "base_uri": "https://localhost:8080/",
          "height": 299
        },
        "outputId": "ae2779bd-c1f8-4ee8-f39b-ff7450d1212f"
      },
      "source": [
        "plt.imshow(x_test[3110])\n",
        "print(y_test[3110])\n",
        "print(y_pred[3110])"
      ],
      "execution_count": 59,
      "outputs": [
        {
          "output_type": "stream",
          "text": [
            "3\n",
            "5\n"
          ],
          "name": "stdout"
        },
        {
          "output_type": "display_data",
          "data": {
            "image/png": "[encoded data removed]",
            "text/plain": [
              "<Figure size 432x288 with 1 Axes>"
            ]
          },
          "metadata": {
            "tags": [],
            "needs_background": "light"
          }
        }
      ]
    },
    {
      "cell_type": "code",
      "metadata": {
        "id": "4r4JJ3uC7xmY",
        "colab_type": "code",
        "colab": {
          "base_uri": "https://localhost:8080/",
          "height": 299
        },
        "outputId": "d8202c52-8052-4b80-ed21-bd600a8e26a1"
      },
      "source": [
        "plt.imshow(x_test[124])\n",
        "print(y_test[124])\n",
        "print(y_pred[124])"
      ],
      "execution_count": 58,
      "outputs": [
        {
          "output_type": "stream",
          "text": [
            "7\n",
            "4\n"
          ],
          "name": "stdout"
        },
        {
          "output_type": "display_data",
          "data": {
            "image/png": "[encoded data removed]",
            "text/plain": [
              "<Figure size 432x288 with 1 Axes>"
            ]
          },
          "metadata": {
            "tags": [],
            "needs_background": "light"
          }
        }
      ]
    },
    {
      "cell_type": "code",
      "metadata": {
        "id": "ogmYZNz476ri",
        "colab_type": "code",
        "colab": {}
      },
      "source": [
        ""
      ],
      "execution_count": null,
      "outputs": []
    }
  ]
}