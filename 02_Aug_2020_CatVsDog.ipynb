{
  "nbformat": 4,
  "nbformat_minor": 0,
  "metadata": {
    "colab": {
      "name": "02-Aug-2020_CatVsDog.ipynb",
      "provenance": [],
      "collapsed_sections": []
    },
    "kernelspec": {
      "name": "python3",
      "display_name": "Python 3"
    },
    "widgets": {
      "application/vnd.jupyter.widget-state+json": {
        "916bae89479c4ef1b6fd8b8e41dc1e62": {
          "model_module": "@jupyter-widgets/controls",
          "model_name": "HBoxModel",
          "state": {
            "_view_name": "HBoxView",
            "_dom_classes": [],
            "_model_name": "HBoxModel",
            "_view_module": "@jupyter-widgets/controls",
            "_model_module_version": "1.5.0",
            "_view_count": null,
            "_view_module_version": "1.5.0",
            "box_style": "",
            "layout": "IPY_MODEL_bac82920c5df404288c757416a24974e",
            "_model_module": "@jupyter-widgets/controls",
            "children": [
              "IPY_MODEL_4f1e98a874864f5faf54bc3e92fe4f63",
              "IPY_MODEL_649437f4a9924bd8b1097b21e0780b85"
            ]
          }
        },
        "bac82920c5df404288c757416a24974e": {
          "model_module": "@jupyter-widgets/base",
          "model_name": "LayoutModel",
          "state": {
            "_view_name": "LayoutView",
            "grid_template_rows": null,
            "right": null,
            "justify_content": null,
            "_view_module": "@jupyter-widgets/base",
            "overflow": null,
            "_model_module_version": "1.2.0",
            "_view_count": null,
            "flex_flow": null,
            "width": null,
            "min_width": null,
            "border": null,
            "align_items": null,
            "bottom": null,
            "_model_module": "@jupyter-widgets/base",
            "top": null,
            "grid_column": null,
            "overflow_y": null,
            "overflow_x": null,
            "grid_auto_flow": null,
            "grid_area": null,
            "grid_template_columns": null,
            "flex": null,
            "_model_name": "LayoutModel",
            "justify_items": null,
            "grid_row": null,
            "max_height": null,
            "align_content": null,
            "visibility": null,
            "align_self": null,
            "height": null,
            "min_height": null,
            "padding": null,
            "grid_auto_rows": null,
            "grid_gap": null,
            "max_width": null,
            "order": null,
            "_view_module_version": "1.2.0",
            "grid_template_areas": null,
            "object_position": null,
            "object_fit": null,
            "grid_auto_columns": null,
            "margin": null,
            "display": null,
            "left": null
          }
        },
        "4f1e98a874864f5faf54bc3e92fe4f63": {
          "model_module": "@jupyter-widgets/controls",
          "model_name": "FloatProgressModel",
          "state": {
            "_view_name": "ProgressView",
            "style": "IPY_MODEL_69e7e2c3d0ab48289adfdb398f6cebfc",
            "_dom_classes": [],
            "description": "100%",
            "_model_name": "FloatProgressModel",
            "bar_style": "success",
            "max": 12000,
            "_view_module": "@jupyter-widgets/controls",
            "_model_module_version": "1.5.0",
            "value": 12000,
            "_view_count": null,
            "_view_module_version": "1.5.0",
            "orientation": "horizontal",
            "min": 0,
            "description_tooltip": null,
            "_model_module": "@jupyter-widgets/controls",
            "layout": "IPY_MODEL_3417a6d7697646b3a12865ff6a551566"
          }
        },
        "649437f4a9924bd8b1097b21e0780b85": {
          "model_module": "@jupyter-widgets/controls",
          "model_name": "HTMLModel",
          "state": {
            "_view_name": "HTMLView",
            "style": "IPY_MODEL_76a30f5ac1e54e55b8b86a68eae79ce6",
            "_dom_classes": [],
            "description": "",
            "_model_name": "HTMLModel",
            "placeholder": "​",
            "_view_module": "@jupyter-widgets/controls",
            "_model_module_version": "1.5.0",
            "value": " 12000/12000 [04:12&lt;00:00, 47.51it/s]",
            "_view_count": null,
            "_view_module_version": "1.5.0",
            "description_tooltip": null,
            "_model_module": "@jupyter-widgets/controls",
            "layout": "IPY_MODEL_a10d91f566e74bf2b98cbd266d073e70"
          }
        },
        "69e7e2c3d0ab48289adfdb398f6cebfc": {
          "model_module": "@jupyter-widgets/controls",
          "model_name": "ProgressStyleModel",
          "state": {
            "_view_name": "StyleView",
            "_model_name": "ProgressStyleModel",
            "description_width": "initial",
            "_view_module": "@jupyter-widgets/base",
            "_model_module_version": "1.5.0",
            "_view_count": null,
            "_view_module_version": "1.2.0",
            "bar_color": null,
            "_model_module": "@jupyter-widgets/controls"
          }
        },
        "3417a6d7697646b3a12865ff6a551566": {
          "model_module": "@jupyter-widgets/base",
          "model_name": "LayoutModel",
          "state": {
            "_view_name": "LayoutView",
            "grid_template_rows": null,
            "right": null,
            "justify_content": null,
            "_view_module": "@jupyter-widgets/base",
            "overflow": null,
            "_model_module_version": "1.2.0",
            "_view_count": null,
            "flex_flow": null,
            "width": null,
            "min_width": null,
            "border": null,
            "align_items": null,
            "bottom": null,
            "_model_module": "@jupyter-widgets/base",
            "top": null,
            "grid_column": null,
            "overflow_y": null,
            "overflow_x": null,
            "grid_auto_flow": null,
            "grid_area": null,
            "grid_template_columns": null,
            "flex": null,
            "_model_name": "LayoutModel",
            "justify_items": null,
            "grid_row": null,
            "max_height": null,
            "align_content": null,
            "visibility": null,
            "align_self": null,
            "height": null,
            "min_height": null,
            "padding": null,
            "grid_auto_rows": null,
            "grid_gap": null,
            "max_width": null,
            "order": null,
            "_view_module_version": "1.2.0",
            "grid_template_areas": null,
            "object_position": null,
            "object_fit": null,
            "grid_auto_columns": null,
            "margin": null,
            "display": null,
            "left": null
          }
        },
        "76a30f5ac1e54e55b8b86a68eae79ce6": {
          "model_module": "@jupyter-widgets/controls",
          "model_name": "DescriptionStyleModel",
          "state": {
            "_view_name": "StyleView",
            "_model_name": "DescriptionStyleModel",
            "description_width": "",
            "_view_module": "@jupyter-widgets/base",
            "_model_module_version": "1.5.0",
            "_view_count": null,
            "_view_module_version": "1.2.0",
            "_model_module": "@jupyter-widgets/controls"
          }
        },
        "a10d91f566e74bf2b98cbd266d073e70": {
          "model_module": "@jupyter-widgets/base",
          "model_name": "LayoutModel",
          "state": {
            "_view_name": "LayoutView",
            "grid_template_rows": null,
            "right": null,
            "justify_content": null,
            "_view_module": "@jupyter-widgets/base",
            "overflow": null,
            "_model_module_version": "1.2.0",
            "_view_count": null,
            "flex_flow": null,
            "width": null,
            "min_width": null,
            "border": null,
            "align_items": null,
            "bottom": null,
            "_model_module": "@jupyter-widgets/base",
            "top": null,
            "grid_column": null,
            "overflow_y": null,
            "overflow_x": null,
            "grid_auto_flow": null,
            "grid_area": null,
            "grid_template_columns": null,
            "flex": null,
            "_model_name": "LayoutModel",
            "justify_items": null,
            "grid_row": null,
            "max_height": null,
            "align_content": null,
            "visibility": null,
            "align_self": null,
            "height": null,
            "min_height": null,
            "padding": null,
            "grid_auto_rows": null,
            "grid_gap": null,
            "max_width": null,
            "order": null,
            "_view_module_version": "1.2.0",
            "grid_template_areas": null,
            "object_position": null,
            "object_fit": null,
            "grid_auto_columns": null,
            "margin": null,
            "display": null,
            "left": null
          }
        }
      }
    }
  },
  "cells": [
    {
      "cell_type": "code",
      "metadata": {
        "id": "r3LLMJxYtMQe",
        "colab_type": "code",
        "colab": {}
      },
      "source": [
        "# !pip install --upgrade -q kaggle\n",
        "!mkdir -p /root/.kaggle\n",
        "!mv kaggle.json /root/.kaggle"
      ],
      "execution_count": 3,
      "outputs": []
    },
    {
      "cell_type": "code",
      "metadata": {
        "id": "uWA93Phct8ru",
        "colab_type": "code",
        "colab": {
          "base_uri": "https://localhost:8080/",
          "height": 230
        },
        "outputId": "f83d6fea-41fd-4401-db6e-bc717e79f90f"
      },
      "source": [
        "! kaggle competitions download -c dogs-vs-cats"
      ],
      "execution_count": 4,
      "outputs": [
        {
          "output_type": "stream",
          "text": [
            "Warning: Your Kaggle API key is readable by other users on this system! To fix this, you can run 'chmod 600 /root/.kaggle/kaggle.json'\n",
            "Warning: Looks like you're using an outdated API Version, please consider updating (server 1.5.6 / client 1.5.4)\n",
            "Downloading sampleSubmission.csv to /content\n",
            "  0% 0.00/86.8k [00:00<?, ?B/s]\n",
            "100% 86.8k/86.8k [00:00<00:00, 34.6MB/s]\n",
            "Downloading train.zip to /content\n",
            " 98% 534M/543M [00:11<00:00, 104MB/s] \n",
            "100% 543M/543M [00:11<00:00, 48.4MB/s]\n",
            "Downloading test1.zip to /content\n",
            " 98% 266M/271M [00:13<00:00, 55.4MB/s]\n",
            "100% 271M/271M [00:13<00:00, 20.4MB/s]\n"
          ],
          "name": "stdout"
        }
      ]
    },
    {
      "cell_type": "code",
      "metadata": {
        "id": "vq6TXcfBuKQQ",
        "colab_type": "code",
        "colab": {}
      },
      "source": [
        "! unzip -q train.zip"
      ],
      "execution_count": 5,
      "outputs": []
    },
    {
      "cell_type": "code",
      "metadata": {
        "id": "4-qnWsMtupzv",
        "colab_type": "code",
        "colab": {}
      },
      "source": [
        "import os \n",
        "from PIL import Image\n",
        "import cv2\n",
        "from tqdm import notebook"
      ],
      "execution_count": 18,
      "outputs": []
    },
    {
      "cell_type": "code",
      "metadata": {
        "id": "0VxWsyRouxQE",
        "colab_type": "code",
        "colab": {
          "base_uri": "https://localhost:8080/",
          "height": 66,
          "referenced_widgets": [
            "916bae89479c4ef1b6fd8b8e41dc1e62",
            "bac82920c5df404288c757416a24974e",
            "4f1e98a874864f5faf54bc3e92fe4f63",
            "649437f4a9924bd8b1097b21e0780b85",
            "69e7e2c3d0ab48289adfdb398f6cebfc",
            "3417a6d7697646b3a12865ff6a551566",
            "76a30f5ac1e54e55b8b86a68eae79ce6",
            "a10d91f566e74bf2b98cbd266d073e70"
          ]
        },
        "outputId": "0ec39fba-6fde-441d-d698-786b8cb96c39"
      },
      "source": [
        "images = []\n",
        "labels = []\n",
        "for imageName in notebook.tqdm(os.listdir(\"train\")[:12000]):\n",
        "  image = cv2.imread(\"train/\" + imageName)\n",
        "  image = cv2.resize(image, (150, 150))\n",
        "  images.append(image)\n",
        "  if \"dog\" in imageName.lower():\n",
        "    labels.append(1)\n",
        "  else:\n",
        "    labels.append(0)"
      ],
      "execution_count": 19,
      "outputs": [
        {
          "output_type": "display_data",
          "data": {
            "application/vnd.jupyter.widget-view+json": {
              "model_id": "916bae89479c4ef1b6fd8b8e41dc1e62",
              "version_minor": 0,
              "version_major": 2
            },
            "text/plain": [
              "HBox(children=(FloatProgress(value=0.0, max=12000.0), HTML(value='')))"
            ]
          },
          "metadata": {
            "tags": []
          }
        },
        {
          "output_type": "stream",
          "text": [
            "\n"
          ],
          "name": "stdout"
        }
      ]
    },
    {
      "cell_type": "code",
      "metadata": {
        "id": "gL9NMsUVvXJ4",
        "colab_type": "code",
        "colab": {}
      },
      "source": [
        "import numpy as np"
      ],
      "execution_count": 20,
      "outputs": []
    },
    {
      "cell_type": "code",
      "metadata": {
        "id": "6_V4TF0Gwfrv",
        "colab_type": "code",
        "colab": {
          "base_uri": "https://localhost:8080/",
          "height": 34
        },
        "outputId": "e1fe14c2-3961-492e-94dd-6c273212bd9a"
      },
      "source": [
        "len(images), len(labels)"
      ],
      "execution_count": 21,
      "outputs": [
        {
          "output_type": "execute_result",
          "data": {
            "text/plain": [
              "(12000, 12000)"
            ]
          },
          "metadata": {
            "tags": []
          },
          "execution_count": 21
        }
      ]
    },
    {
      "cell_type": "code",
      "metadata": {
        "id": "yjTJzGmwwjNC",
        "colab_type": "code",
        "colab": {}
      },
      "source": [
        "images = np.array(images)\n",
        "labels = np.array(labels)"
      ],
      "execution_count": 22,
      "outputs": []
    },
    {
      "cell_type": "code",
      "metadata": {
        "id": "9fG6c5kCwp_O",
        "colab_type": "code",
        "colab": {
          "base_uri": "https://localhost:8080/",
          "height": 34
        },
        "outputId": "5a6c48ca-7fce-4cf6-a2c1-4461b11db331"
      },
      "source": [
        "images.shape, labels.shape"
      ],
      "execution_count": 23,
      "outputs": [
        {
          "output_type": "execute_result",
          "data": {
            "text/plain": [
              "((12000, 150, 150, 3), (12000,))"
            ]
          },
          "metadata": {
            "tags": []
          },
          "execution_count": 23
        }
      ]
    },
    {
      "cell_type": "code",
      "metadata": {
        "id": "9fkYsZQ2x_eI",
        "colab_type": "code",
        "colab": {
          "base_uri": "https://localhost:8080/",
          "height": 34
        },
        "outputId": "fe1c5fad-f396-4d8a-b779-00d8698ab26f"
      },
      "source": [
        "12000*20/100"
      ],
      "execution_count": 24,
      "outputs": [
        {
          "output_type": "execute_result",
          "data": {
            "text/plain": [
              "2400.0"
            ]
          },
          "metadata": {
            "tags": []
          },
          "execution_count": 24
        }
      ]
    },
    {
      "cell_type": "code",
      "metadata": {
        "id": "KpnssGpvyLSQ",
        "colab_type": "code",
        "colab": {
          "base_uri": "https://localhost:8080/",
          "height": 34
        },
        "outputId": "2a85f1dd-db62-4e54-ad06-ace3a7dcaee3"
      },
      "source": [
        "12000 - 2400"
      ],
      "execution_count": 25,
      "outputs": [
        {
          "output_type": "execute_result",
          "data": {
            "text/plain": [
              "9600"
            ]
          },
          "metadata": {
            "tags": []
          },
          "execution_count": 25
        }
      ]
    },
    {
      "cell_type": "code",
      "metadata": {
        "id": "MQl-uNQvwvcs",
        "colab_type": "code",
        "colab": {}
      },
      "source": [
        "# We will divide our data into 2 parts Example -  100 images in Total\n",
        "# 1. Training Data   (data used for training)  -   80 images for training\n",
        "# 2. Test Data       (Always unseen, and used fot testing once training is done) - 20 images for testing \n",
        "# 3. Validation Data (After every epoch check accuracy)(validation data generally comes from training dataset) - 10 images\n",
        "\n",
        "\n",
        "# 100 images - 80 images (70 for training + 10 for validation)    + 20 images (testing data)"
      ],
      "execution_count": 26,
      "outputs": []
    },
    {
      "cell_type": "code",
      "metadata": {
        "id": "LSpVxAvUxJOV",
        "colab_type": "code",
        "colab": {}
      },
      "source": [
        "import sklearn\n",
        "from sklearn.model_selection import train_test_split"
      ],
      "execution_count": 27,
      "outputs": []
    },
    {
      "cell_type": "code",
      "metadata": {
        "id": "9T3GLeh3xveE",
        "colab_type": "code",
        "colab": {}
      },
      "source": [
        "x_train, x_test, y_train, y_test = train_test_split(images, labels, test_size=0.2)"
      ],
      "execution_count": 28,
      "outputs": []
    },
    {
      "cell_type": "code",
      "metadata": {
        "id": "ghuzc05wx6I7",
        "colab_type": "code",
        "colab": {}
      },
      "source": [
        "# training set\n",
        "# x_train - Images used for training \n",
        "# y_train - labels for training images \n",
        "\n",
        "# testing set \n",
        "# x_test - Images used for testing \n",
        "# y_test - Labels for testing images "
      ],
      "execution_count": 12,
      "outputs": []
    },
    {
      "cell_type": "code",
      "metadata": {
        "id": "P2uy3Mt1y0Q5",
        "colab_type": "code",
        "colab": {}
      },
      "source": [
        "del images \n",
        "del labels"
      ],
      "execution_count": 13,
      "outputs": []
    },
    {
      "cell_type": "code",
      "metadata": {
        "id": "99OzagVNzAeh",
        "colab_type": "code",
        "colab": {}
      },
      "source": [
        "x_train = x_train /255.0\n",
        "x_test  = x_test  /255.0"
      ],
      "execution_count": 14,
      "outputs": []
    },
    {
      "cell_type": "code",
      "metadata": {
        "id": "A_pIlR8ZzHAO",
        "colab_type": "code",
        "colab": {
          "base_uri": "https://localhost:8080/",
          "height": 34
        },
        "outputId": "ecd21341-0408-4203-fda7-a28c7602a973"
      },
      "source": [
        "x_train.dtype"
      ],
      "execution_count": 15,
      "outputs": [
        {
          "output_type": "execute_result",
          "data": {
            "text/plain": [
              "dtype('float64')"
            ]
          },
          "metadata": {
            "tags": []
          },
          "execution_count": 15
        }
      ]
    },
    {
      "cell_type": "code",
      "metadata": {
        "id": "d3xPo2rrzQEn",
        "colab_type": "code",
        "colab": {
          "base_uri": "https://localhost:8080/",
          "height": 105
        },
        "outputId": "c3c23e3d-393b-4a04-85a3-4be9c0d1a5d6"
      },
      "source": [
        "%tensorflow_version 2.x # this step is only for COLAB not for local system"
      ],
      "execution_count": 16,
      "outputs": [
        {
          "output_type": "stream",
          "text": [
            "`%tensorflow_version` only switches the major version: 1.x or 2.x.\n",
            "You set: `2.x # this step is only for COLAB not for local system`. This will be interpreted as: `2.x`.\n",
            "\n",
            "\n",
            "TensorFlow 2.x selected.\n"
          ],
          "name": "stdout"
        }
      ]
    },
    {
      "cell_type": "code",
      "metadata": {
        "id": "nxK7V4qbzdPm",
        "colab_type": "code",
        "colab": {}
      },
      "source": [
        "import tensorflow as tf\n",
        "from tensorflow.keras.utils import to_categorical"
      ],
      "execution_count": 17,
      "outputs": []
    },
    {
      "cell_type": "code",
      "metadata": {
        "id": "2dzsyA6hzk91",
        "colab_type": "code",
        "colab": {}
      },
      "source": [
        "y_train = to_categorical(y_train)"
      ],
      "execution_count": 18,
      "outputs": []
    },
    {
      "cell_type": "code",
      "metadata": {
        "id": "NMWNx4BNzrTg",
        "colab_type": "code",
        "colab": {
          "base_uri": "https://localhost:8080/",
          "height": 140
        },
        "outputId": "b1c6c86b-d86e-44ae-bd2d-4ce89036a89c"
      },
      "source": [
        "y_train"
      ],
      "execution_count": 19,
      "outputs": [
        {
          "output_type": "execute_result",
          "data": {
            "text/plain": [
              "array([[1., 0.],\n",
              "       [1., 0.],\n",
              "       [0., 1.],\n",
              "       ...,\n",
              "       [0., 1.],\n",
              "       [0., 1.],\n",
              "       [1., 0.]], dtype=float32)"
            ]
          },
          "metadata": {
            "tags": []
          },
          "execution_count": 19
        }
      ]
    },
    {
      "cell_type": "code",
      "metadata": {
        "id": "usE2grUlzsY6",
        "colab_type": "code",
        "colab": {}
      },
      "source": [
        "from tensorflow.keras.models import Sequential\n",
        "from tensorflow.keras.layers import Dense, Flatten\n",
        "from tensorflow.keras.activations import relu, softmax\n",
        "from tensorflow.keras.losses import categorical_crossentropy\n",
        "from tensorflow.keras.optimizers import SGD"
      ],
      "execution_count": 20,
      "outputs": []
    },
    {
      "cell_type": "code",
      "metadata": {
        "id": "VPE6EWVt0fX9",
        "colab_type": "code",
        "colab": {}
      },
      "source": [
        "model = Sequential()\n",
        "model.add(Flatten(input_shape=(150, 150, 3)))\n",
        "model.add(Dense(128, activation=relu))\n",
        "model.add(Dense(64, activation=relu))\n",
        "model.add(Dense(2, activation=softmax))"
      ],
      "execution_count": 21,
      "outputs": []
    },
    {
      "cell_type": "code",
      "metadata": {
        "id": "-rZsSdvX1QEo",
        "colab_type": "code",
        "colab": {
          "base_uri": "https://localhost:8080/",
          "height": 298
        },
        "outputId": "8865f79a-a7bf-47c2-be65-cfd83b6b262c"
      },
      "source": [
        "model.summary()"
      ],
      "execution_count": 22,
      "outputs": [
        {
          "output_type": "stream",
          "text": [
            "Model: \"sequential\"\n",
            "_________________________________________________________________\n",
            "Layer (type)                 Output Shape              Param #   \n",
            "=================================================================\n",
            "flatten (Flatten)            (None, 67500)             0         \n",
            "_________________________________________________________________\n",
            "dense (Dense)                (None, 128)               8640128   \n",
            "_________________________________________________________________\n",
            "dense_1 (Dense)              (None, 64)                8256      \n",
            "_________________________________________________________________\n",
            "dense_2 (Dense)              (None, 2)                 130       \n",
            "=================================================================\n",
            "Total params: 8,648,514\n",
            "Trainable params: 8,648,514\n",
            "Non-trainable params: 0\n",
            "_________________________________________________________________\n"
          ],
          "name": "stdout"
        }
      ]
    },
    {
      "cell_type": "code",
      "metadata": {
        "id": "1k5i5wMo1SDP",
        "colab_type": "code",
        "colab": {}
      },
      "source": [
        "model.compile(SGD(learning_rate=0.01/2), categorical_crossentropy, [\"acc\"])"
      ],
      "execution_count": 23,
      "outputs": []
    },
    {
      "cell_type": "code",
      "metadata": {
        "id": "QhBbmiGd1ZG3",
        "colab_type": "code",
        "colab": {
          "base_uri": "https://localhost:8080/",
          "height": 758
        },
        "outputId": "f37c7e7f-8bf1-4f87-88e6-82df0a3b9fa0"
      },
      "source": [
        "model.fit(x_train, y_train, batch_size=64, epochs=20, validation_split=0.1) #9600 - 960 images will be used for validation "
      ],
      "execution_count": 24,
      "outputs": [
        {
          "output_type": "stream",
          "text": [
            "Epoch 1/20\n",
            "135/135 [==============================] - 10s 76ms/step - loss: 0.7174 - acc: 0.5351 - val_loss: 0.6824 - val_acc: 0.5146\n",
            "Epoch 2/20\n",
            "135/135 [==============================] - 10s 73ms/step - loss: 0.6741 - acc: 0.5763 - val_loss: 0.6586 - val_acc: 0.6250\n",
            "Epoch 3/20\n",
            "135/135 [==============================] - 10s 73ms/step - loss: 0.6660 - acc: 0.5931 - val_loss: 0.6520 - val_acc: 0.6167\n",
            "Epoch 4/20\n",
            "135/135 [==============================] - 10s 73ms/step - loss: 0.6597 - acc: 0.6038 - val_loss: 0.6450 - val_acc: 0.6406\n",
            "Epoch 5/20\n",
            "135/135 [==============================] - 10s 73ms/step - loss: 0.6537 - acc: 0.6084 - val_loss: 0.6541 - val_acc: 0.5979\n",
            "Epoch 6/20\n",
            "135/135 [==============================] - 10s 73ms/step - loss: 0.6434 - acc: 0.6325 - val_loss: 0.6490 - val_acc: 0.6271\n",
            "Epoch 7/20\n",
            "135/135 [==============================] - 10s 73ms/step - loss: 0.6346 - acc: 0.6366 - val_loss: 0.6494 - val_acc: 0.6438\n",
            "Epoch 8/20\n",
            "135/135 [==============================] - 10s 74ms/step - loss: 0.6354 - acc: 0.6392 - val_loss: 0.6367 - val_acc: 0.6510\n",
            "Epoch 9/20\n",
            "135/135 [==============================] - 10s 74ms/step - loss: 0.6270 - acc: 0.6455 - val_loss: 0.6404 - val_acc: 0.6531\n",
            "Epoch 10/20\n",
            "135/135 [==============================] - 10s 74ms/step - loss: 0.6254 - acc: 0.6497 - val_loss: 0.6369 - val_acc: 0.6365\n",
            "Epoch 11/20\n",
            "135/135 [==============================] - 10s 74ms/step - loss: 0.6188 - acc: 0.6510 - val_loss: 0.6761 - val_acc: 0.5833\n",
            "Epoch 12/20\n",
            "135/135 [==============================] - 10s 74ms/step - loss: 0.6110 - acc: 0.6617 - val_loss: 0.6366 - val_acc: 0.6354\n",
            "Epoch 13/20\n",
            "135/135 [==============================] - 10s 74ms/step - loss: 0.6094 - acc: 0.6671 - val_loss: 0.6999 - val_acc: 0.5948\n",
            "Epoch 14/20\n",
            "135/135 [==============================] - 10s 74ms/step - loss: 0.6024 - acc: 0.6729 - val_loss: 0.6481 - val_acc: 0.6333\n",
            "Epoch 15/20\n",
            "135/135 [==============================] - 10s 74ms/step - loss: 0.5979 - acc: 0.6699 - val_loss: 0.6305 - val_acc: 0.6469\n",
            "Epoch 16/20\n",
            "135/135 [==============================] - 11s 82ms/step - loss: 0.5965 - acc: 0.6760 - val_loss: 0.6243 - val_acc: 0.6656\n",
            "Epoch 17/20\n",
            "135/135 [==============================] - 10s 74ms/step - loss: 0.5861 - acc: 0.6824 - val_loss: 0.6255 - val_acc: 0.6573\n",
            "Epoch 18/20\n",
            "135/135 [==============================] - 10s 74ms/step - loss: 0.5795 - acc: 0.6914 - val_loss: 0.6366 - val_acc: 0.6427\n",
            "Epoch 19/20\n",
            "135/135 [==============================] - 10s 75ms/step - loss: 0.5846 - acc: 0.6887 - val_loss: 0.6627 - val_acc: 0.6302\n",
            "Epoch 20/20\n",
            "135/135 [==============================] - 10s 74ms/step - loss: 0.5798 - acc: 0.6894 - val_loss: 0.6258 - val_acc: 0.6510\n"
          ],
          "name": "stdout"
        },
        {
          "output_type": "execute_result",
          "data": {
            "text/plain": [
              "<tensorflow.python.keras.callbacks.History at 0x7f5a490024e0>"
            ]
          },
          "metadata": {
            "tags": []
          },
          "execution_count": 24
        }
      ]
    },
    {
      "cell_type": "code",
      "metadata": {
        "id": "UEKVLgPh9qJD",
        "colab_type": "code",
        "colab": {}
      },
      "source": [
        "model.save_weights(\"catVsdog.h5\")"
      ],
      "execution_count": 25,
      "outputs": []
    },
    {
      "cell_type": "code",
      "metadata": {
        "id": "Vw7UUH8W92JK",
        "colab_type": "code",
        "colab": {}
      },
      "source": [
        "with open(\"model_json.json\", \"w\") as _file:\n",
        "  _file.write(model.to_json())"
      ],
      "execution_count": 28,
      "outputs": []
    },
    {
      "cell_type": "code",
      "metadata": {
        "id": "n5rcovPQ12i-",
        "colab_type": "code",
        "colab": {
          "base_uri": "https://localhost:8080/",
          "height": 230
        },
        "outputId": "b8d01717-1fb0-4582-e6eb-f478813f6625"
      },
      "source": [
        "! wget https://ichef.bbci.co.uk/news/976/cpsprodpb/12A9B/production/_111434467_gettyimages-1143489763.jpg"
      ],
      "execution_count": 39,
      "outputs": [
        {
          "output_type": "stream",
          "text": [
            "--2020-08-02 15:59:40--  https://ichef.bbci.co.uk/news/976/cpsprodpb/12A9B/production/_111434467_gettyimages-1143489763.jpg\n",
            "Resolving ichef.bbci.co.uk (ichef.bbci.co.uk)... 23.76.229.223, 2600:1417:76:594::f33, 2600:1417:76:58e::f33\n",
            "Connecting to ichef.bbci.co.uk (ichef.bbci.co.uk)|23.76.229.223|:443... connected.\n",
            "HTTP request sent, awaiting response... 200 OK\n",
            "Length: 50652 (49K) [image/jpeg]\n",
            "Saving to: ‘_111434467_gettyimages-1143489763.jpg’\n",
            "\n",
            "\r          _11143446   0%[                    ]       0  --.-KB/s               \r_111434467_gettyima 100%[===================>]  49.46K  --.-KB/s    in 0.01s   \n",
            "\n",
            "2020-08-02 15:59:41 (3.56 MB/s) - ‘_111434467_gettyimages-1143489763.jpg’ saved [50652/50652]\n",
            "\n"
          ],
          "name": "stdout"
        }
      ]
    },
    {
      "cell_type": "code",
      "metadata": {
        "id": "ag9cz32x5mXL",
        "colab_type": "code",
        "colab": {}
      },
      "source": [
        "! mv _111434467_gettyimages-1143489763.jpg cat.jpg"
      ],
      "execution_count": 40,
      "outputs": []
    },
    {
      "cell_type": "code",
      "metadata": {
        "id": "9CrXz1Wi5sLQ",
        "colab_type": "code",
        "colab": {}
      },
      "source": [
        "test_image = cv2.imread(\"cat.jpg\")\n",
        "test_image = cv2.resize(test_image, (150, 150))\n",
        "test_image = test_image/255.0"
      ],
      "execution_count": 29,
      "outputs": []
    },
    {
      "cell_type": "code",
      "metadata": {
        "id": "XP9mMQdX53fO",
        "colab_type": "code",
        "colab": {
          "base_uri": "https://localhost:8080/",
          "height": 34
        },
        "outputId": "29853777-ae23-4be1-a97e-a2b47d2762ce"
      },
      "source": [
        "test_image.shape"
      ],
      "execution_count": 30,
      "outputs": [
        {
          "output_type": "execute_result",
          "data": {
            "text/plain": [
              "(150, 150, 3)"
            ]
          },
          "metadata": {
            "tags": []
          },
          "execution_count": 30
        }
      ]
    },
    {
      "cell_type": "code",
      "metadata": {
        "id": "n3-NrG6r54xi",
        "colab_type": "code",
        "colab": {
          "base_uri": "https://localhost:8080/",
          "height": 34
        },
        "outputId": "2df550bb-617c-4b9c-b7ae-5c7801b87ce5"
      },
      "source": [
        "model.input_shape"
      ],
      "execution_count": 31,
      "outputs": [
        {
          "output_type": "execute_result",
          "data": {
            "text/plain": [
              "(None, 150, 150, 3)"
            ]
          },
          "metadata": {
            "tags": []
          },
          "execution_count": 31
        }
      ]
    },
    {
      "cell_type": "code",
      "metadata": {
        "id": "ov_sQ61b59Lv",
        "colab_type": "code",
        "colab": {}
      },
      "source": [
        "test_image = np.expand_dims(test_image, 0)"
      ],
      "execution_count": 32,
      "outputs": []
    },
    {
      "cell_type": "code",
      "metadata": {
        "id": "qT4y3i0W6_Us",
        "colab_type": "code",
        "colab": {
          "base_uri": "https://localhost:8080/",
          "height": 34
        },
        "outputId": "14154fd1-771f-4e6f-a711-4e8b380e2b37"
      },
      "source": [
        "test_image.shape"
      ],
      "execution_count": 33,
      "outputs": [
        {
          "output_type": "execute_result",
          "data": {
            "text/plain": [
              "(1, 150, 150, 3)"
            ]
          },
          "metadata": {
            "tags": []
          },
          "execution_count": 33
        }
      ]
    },
    {
      "cell_type": "code",
      "metadata": {
        "id": "wlwz9mBx6daU",
        "colab_type": "code",
        "colab": {
          "base_uri": "https://localhost:8080/",
          "height": 34
        },
        "outputId": "46a51225-7356-4341-b47e-164b5099bde2"
      },
      "source": [
        "model.predict(test_image)"
      ],
      "execution_count": 34,
      "outputs": [
        {
          "output_type": "execute_result",
          "data": {
            "text/plain": [
              "array([[0.36495638, 0.63504356]], dtype=float32)"
            ]
          },
          "metadata": {
            "tags": []
          },
          "execution_count": 34
        }
      ]
    },
    {
      "cell_type": "code",
      "metadata": {
        "id": "68nZi4np7MnX",
        "colab_type": "code",
        "colab": {
          "base_uri": "https://localhost:8080/",
          "height": 34
        },
        "outputId": "49d4dde5-a2d1-4aef-ef06-1d052449d623"
      },
      "source": [
        "np.argmax(model.predict(test_image))"
      ],
      "execution_count": 35,
      "outputs": [
        {
          "output_type": "execute_result",
          "data": {
            "text/plain": [
              "1"
            ]
          },
          "metadata": {
            "tags": []
          },
          "execution_count": 35
        }
      ]
    },
    {
      "cell_type": "code",
      "metadata": {
        "id": "BPIO1WSf-W8J",
        "colab_type": "code",
        "colab": {}
      },
      "source": [
        "#Load a model"
      ],
      "execution_count": 1,
      "outputs": []
    },
    {
      "cell_type": "code",
      "metadata": {
        "id": "cgwEPZjz8JIq",
        "colab_type": "code",
        "colab": {}
      },
      "source": [
        "%tensorflow_version 2.x\n",
        "import tensorflow as tf\n",
        "from tensorflow.keras import models "
      ],
      "execution_count": 2,
      "outputs": []
    },
    {
      "cell_type": "code",
      "metadata": {
        "id": "y_RQJVgd-rYI",
        "colab_type": "code",
        "colab": {}
      },
      "source": [
        "with open(\"model_json.json\", \"r\") as _file:\n",
        "  model_json = _file.read()"
      ],
      "execution_count": 3,
      "outputs": []
    },
    {
      "cell_type": "code",
      "metadata": {
        "id": "ERTd6pyB-z0z",
        "colab_type": "code",
        "colab": {
          "base_uri": "https://localhost:8080/",
          "height": 176
        },
        "outputId": "7adef74d-70ff-4b5b-92df-6cbab4edd99c"
      },
      "source": [
        "model_json"
      ],
      "execution_count": 4,
      "outputs": [
        {
          "output_type": "execute_result",
          "data": {
            "application/vnd.google.colaboratory.intrinsic+json": {
              "type": "string"
            },
            "text/plain": [
              "'{\"class_name\": \"Sequential\", \"config\": {\"name\": \"sequential\", \"layers\": [{\"class_name\": \"Flatten\", \"config\": {\"name\": \"flatten\", \"trainable\": true, \"batch_input_shape\": [null, 150, 150, 3], \"dtype\": \"float32\", \"data_format\": \"channels_last\"}}, {\"class_name\": \"Dense\", \"config\": {\"name\": \"dense\", \"trainable\": true, \"dtype\": \"float32\", \"units\": 128, \"activation\": \"relu\", \"use_bias\": true, \"kernel_initializer\": {\"class_name\": \"GlorotUniform\", \"config\": {\"seed\": null}}, \"bias_initializer\": {\"class_name\": \"Zeros\", \"config\": {}}, \"kernel_regularizer\": null, \"bias_regularizer\": null, \"activity_regularizer\": null, \"kernel_constraint\": null, \"bias_constraint\": null}}, {\"class_name\": \"Dense\", \"config\": {\"name\": \"dense_1\", \"trainable\": true, \"dtype\": \"float32\", \"units\": 64, \"activation\": \"relu\", \"use_bias\": true, \"kernel_initializer\": {\"class_name\": \"GlorotUniform\", \"config\": {\"seed\": null}}, \"bias_initializer\": {\"class_name\": \"Zeros\", \"config\": {}}, \"kernel_regularizer\": null, \"bias_regularizer\": null, \"activity_regularizer\": null, \"kernel_constraint\": null, \"bias_constraint\": null}}, {\"class_name\": \"Dense\", \"config\": {\"name\": \"dense_2\", \"trainable\": true, \"dtype\": \"float32\", \"units\": 2, \"activation\": \"softmax\", \"use_bias\": true, \"kernel_initializer\": {\"class_name\": \"GlorotUniform\", \"config\": {\"seed\": null}}, \"bias_initializer\": {\"class_name\": \"Zeros\", \"config\": {}}, \"kernel_regularizer\": null, \"bias_regularizer\": null, \"activity_regularizer\": null, \"kernel_constraint\": null, \"bias_constraint\": null}}], \"build_input_shape\": [null, 150, 150, 3]}, \"keras_version\": \"2.3.0-tf\", \"backend\": \"tensorflow\"}'"
            ]
          },
          "metadata": {
            "tags": []
          },
          "execution_count": 4
        }
      ]
    },
    {
      "cell_type": "code",
      "metadata": {
        "id": "5qNUMbGa71KQ",
        "colab_type": "code",
        "colab": {}
      },
      "source": [
        "restore_model = models.model_from_json(model_json)"
      ],
      "execution_count": 5,
      "outputs": []
    },
    {
      "cell_type": "code",
      "metadata": {
        "id": "0ofpl8xv8a_X",
        "colab_type": "code",
        "colab": {}
      },
      "source": [
        "restore_model.load_weights(\"catVsdog.h5\")"
      ],
      "execution_count": 6,
      "outputs": []
    },
    {
      "cell_type": "code",
      "metadata": {
        "id": "U52wa9o5--ND",
        "colab_type": "code",
        "colab": {
          "base_uri": "https://localhost:8080/",
          "height": 298
        },
        "outputId": "2cd289e1-b0f7-4ac0-cb64-4687efccf037"
      },
      "source": [
        "restore_model.summary()"
      ],
      "execution_count": 7,
      "outputs": [
        {
          "output_type": "stream",
          "text": [
            "Model: \"sequential\"\n",
            "_________________________________________________________________\n",
            "Layer (type)                 Output Shape              Param #   \n",
            "=================================================================\n",
            "flatten (Flatten)            (None, 67500)             0         \n",
            "_________________________________________________________________\n",
            "dense (Dense)                (None, 128)               8640128   \n",
            "_________________________________________________________________\n",
            "dense_1 (Dense)              (None, 64)                8256      \n",
            "_________________________________________________________________\n",
            "dense_2 (Dense)              (None, 2)                 130       \n",
            "=================================================================\n",
            "Total params: 8,648,514\n",
            "Trainable params: 8,648,514\n",
            "Non-trainable params: 0\n",
            "_________________________________________________________________\n"
          ],
          "name": "stdout"
        }
      ]
    },
    {
      "cell_type": "code",
      "metadata": {
        "id": "6G_nora8_Aur",
        "colab_type": "code",
        "colab": {}
      },
      "source": [
        "x_test = x_test /255.0"
      ],
      "execution_count": 29,
      "outputs": []
    },
    {
      "cell_type": "code",
      "metadata": {
        "id": "7gvXRpXz_kBT",
        "colab_type": "code",
        "colab": {
          "base_uri": "https://localhost:8080/",
          "height": 34
        },
        "outputId": "840b5715-1371-4afe-a509-b8017f7ca1a1"
      },
      "source": [
        "x_test.shape"
      ],
      "execution_count": 30,
      "outputs": [
        {
          "output_type": "execute_result",
          "data": {
            "text/plain": [
              "(2400, 150, 150, 3)"
            ]
          },
          "metadata": {
            "tags": []
          },
          "execution_count": 30
        }
      ]
    },
    {
      "cell_type": "code",
      "metadata": {
        "id": "A3pPyWiF_mMS",
        "colab_type": "code",
        "colab": {}
      },
      "source": [
        "y_pred = restore_model.predict(x_test)"
      ],
      "execution_count": 31,
      "outputs": []
    },
    {
      "cell_type": "code",
      "metadata": {
        "id": "CkfKyjed_ukW",
        "colab_type": "code",
        "colab": {
          "base_uri": "https://localhost:8080/",
          "height": 34
        },
        "outputId": "ed495a0f-0033-4b33-d50a-9046a4e1cad5"
      },
      "source": [
        "y_pred.shape"
      ],
      "execution_count": 32,
      "outputs": [
        {
          "output_type": "execute_result",
          "data": {
            "text/plain": [
              "(2400, 2)"
            ]
          },
          "metadata": {
            "tags": []
          },
          "execution_count": 32
        }
      ]
    },
    {
      "cell_type": "code",
      "metadata": {
        "id": "hKR_o3gyAIzV",
        "colab_type": "code",
        "colab": {
          "base_uri": "https://localhost:8080/",
          "height": 140
        },
        "outputId": "18fc7e16-dff6-4d9d-cddc-6540097d3eeb"
      },
      "source": [
        "y_pred"
      ],
      "execution_count": 33,
      "outputs": [
        {
          "output_type": "execute_result",
          "data": {
            "text/plain": [
              "array([[0.12122387, 0.87877613],\n",
              "       [0.9358488 , 0.06415115],\n",
              "       [0.35123917, 0.64876086],\n",
              "       ...,\n",
              "       [0.5213248 , 0.47867528],\n",
              "       [0.2657568 , 0.7342432 ],\n",
              "       [0.5700141 , 0.4299859 ]], dtype=float32)"
            ]
          },
          "metadata": {
            "tags": []
          },
          "execution_count": 33
        }
      ]
    },
    {
      "cell_type": "code",
      "metadata": {
        "id": "1hbQAn3DAR4v",
        "colab_type": "code",
        "colab": {}
      },
      "source": [
        "y_pred_ = np.argmax(y_pred, axis=1)"
      ],
      "execution_count": 36,
      "outputs": []
    },
    {
      "cell_type": "code",
      "metadata": {
        "id": "QMeiAUp4ALC2",
        "colab_type": "code",
        "colab": {
          "base_uri": "https://localhost:8080/",
          "height": 34
        },
        "outputId": "185513f7-56be-46c9-e6f8-51e9bf88d91f"
      },
      "source": [
        "y_test"
      ],
      "execution_count": 34,
      "outputs": [
        {
          "output_type": "execute_result",
          "data": {
            "text/plain": [
              "array([1, 0, 0, ..., 0, 1, 0])"
            ]
          },
          "metadata": {
            "tags": []
          },
          "execution_count": 34
        }
      ]
    },
    {
      "cell_type": "code",
      "metadata": {
        "id": "gqv_nCGpAPAG",
        "colab_type": "code",
        "colab": {
          "base_uri": "https://localhost:8080/",
          "height": 34
        },
        "outputId": "c9bec1e3-64bd-4c55-d915-d3b7f9937f23"
      },
      "source": [
        "(y_pred_ == y_test).mean()*100"
      ],
      "execution_count": 40,
      "outputs": [
        {
          "output_type": "execute_result",
          "data": {
            "text/plain": [
              "69.29166666666666"
            ]
          },
          "metadata": {
            "tags": []
          },
          "execution_count": 40
        }
      ]
    },
    {
      "cell_type": "code",
      "metadata": {
        "id": "12cuxRI9AdQS",
        "colab_type": "code",
        "colab": {
          "base_uri": "https://localhost:8080/",
          "height": 1000
        },
        "outputId": "0c439c05-2c76-426d-f9be-efd7ae788c58"
      },
      "source": [
        "np.where(y_pred_ != y_test)"
      ],
      "execution_count": 41,
      "outputs": [
        {
          "output_type": "execute_result",
          "data": {
            "text/plain": [
              "(array([   2,    5,    6,    7,    8,   10,   13,   14,   15,   19,   22,\n",
              "          24,   30,   31,   33,   34,   37,   38,   47,   48,   49,   52,\n",
              "          55,   58,   61,   65,   67,   68,   70,   74,   76,   78,   80,\n",
              "          88,   93,   94,   95,  100,  101,  102,  103,  107,  111,  116,\n",
              "         121,  123,  139,  142,  143,  144,  148,  149,  167,  170,  171,\n",
              "         173,  175,  176,  179,  180,  185,  186,  190,  191,  196,  208,\n",
              "         217,  218,  219,  221,  223,  224,  229,  231,  236,  238,  242,\n",
              "         248,  250,  251,  257,  259,  260,  266,  267,  268,  269,  270,\n",
              "         271,  276,  281,  285,  286,  289,  293,  298,  304,  308,  309,\n",
              "         310,  311,  320,  325,  326,  328,  330,  331,  335,  339,  341,\n",
              "         348,  353,  363,  365,  367,  371,  375,  376,  377,  382,  384,\n",
              "         385,  389,  394,  397,  404,  406,  408,  410,  412,  416,  424,\n",
              "         425,  433,  434,  437,  445,  451,  453,  459,  461,  463,  473,\n",
              "         474,  475,  478,  483,  487,  489,  490,  491,  493,  494,  515,\n",
              "         516,  521,  526,  527,  529,  532,  533,  540,  542,  543,  547,\n",
              "         551,  554,  559,  560,  569,  572,  575,  576,  581,  584,  585,\n",
              "         586,  589,  591,  592,  594,  597,  602,  608,  612,  614,  615,\n",
              "         616,  617,  620,  623,  626,  633,  634,  636,  637,  638,  639,\n",
              "         641,  649,  654,  658,  659,  663,  671,  673,  675,  680,  684,\n",
              "         689,  691,  696,  702,  703,  709,  711,  717,  719,  722,  724,\n",
              "         726,  727,  728,  729,  730,  735,  740,  741,  744,  747,  749,\n",
              "         750,  756,  763,  764,  775,  778,  790,  793,  794,  795,  798,\n",
              "         800,  814,  815,  817,  821,  822,  826,  830,  832,  837,  841,\n",
              "         847,  849,  851,  855,  857,  858,  860,  864,  866,  868,  874,\n",
              "         876,  877,  878,  881,  883,  889,  891,  892,  894,  900,  902,\n",
              "         904,  905,  908,  909,  912,  914,  921,  922,  923,  928,  932,\n",
              "         938,  945,  953,  954,  955,  956,  958,  960,  961,  966,  975,\n",
              "         977,  982,  983,  984,  987,  991,  997, 1000, 1007, 1008, 1009,\n",
              "        1012, 1027, 1031, 1033, 1036, 1040, 1043, 1047, 1050, 1055, 1065,\n",
              "        1068, 1069, 1071, 1073, 1078, 1079, 1080, 1082, 1083, 1084, 1087,\n",
              "        1088, 1093, 1094, 1096, 1100, 1104, 1107, 1109, 1110, 1112, 1116,\n",
              "        1122, 1124, 1125, 1131, 1133, 1135, 1138, 1139, 1143, 1146, 1148,\n",
              "        1152, 1154, 1161, 1162, 1163, 1164, 1165, 1169, 1170, 1173, 1174,\n",
              "        1175, 1178, 1179, 1182, 1185, 1188, 1189, 1190, 1192, 1196, 1199,\n",
              "        1202, 1208, 1209, 1216, 1220, 1221, 1222, 1223, 1226, 1228, 1229,\n",
              "        1230, 1231, 1237, 1242, 1245, 1246, 1253, 1254, 1256, 1258, 1260,\n",
              "        1263, 1270, 1273, 1277, 1281, 1283, 1291, 1295, 1300, 1301, 1308,\n",
              "        1311, 1314, 1315, 1318, 1320, 1323, 1326, 1329, 1334, 1341, 1342,\n",
              "        1344, 1346, 1347, 1349, 1354, 1357, 1365, 1368, 1371, 1374, 1376,\n",
              "        1378, 1386, 1391, 1393, 1395, 1398, 1401, 1404, 1408, 1409, 1414,\n",
              "        1416, 1417, 1422, 1424, 1426, 1429, 1431, 1435, 1436, 1444, 1454,\n",
              "        1455, 1459, 1468, 1473, 1478, 1483, 1487, 1489, 1491, 1492, 1493,\n",
              "        1495, 1501, 1504, 1521, 1523, 1526, 1533, 1536, 1539, 1540, 1543,\n",
              "        1553, 1557, 1561, 1562, 1563, 1564, 1568, 1571, 1576, 1579, 1580,\n",
              "        1581, 1582, 1583, 1584, 1591, 1596, 1599, 1610, 1622, 1624, 1626,\n",
              "        1628, 1629, 1636, 1638, 1642, 1643, 1645, 1651, 1652, 1658, 1662,\n",
              "        1664, 1668, 1670, 1672, 1676, 1678, 1681, 1682, 1683, 1692, 1695,\n",
              "        1699, 1702, 1714, 1715, 1717, 1721, 1723, 1725, 1736, 1740, 1744,\n",
              "        1747, 1750, 1757, 1760, 1762, 1764, 1765, 1766, 1768, 1774, 1776,\n",
              "        1778, 1782, 1785, 1786, 1788, 1789, 1792, 1794, 1796, 1798, 1801,\n",
              "        1802, 1807, 1809, 1812, 1813, 1818, 1821, 1822, 1829, 1831, 1836,\n",
              "        1840, 1844, 1847, 1852, 1855, 1859, 1864, 1866, 1870, 1871, 1873,\n",
              "        1874, 1879, 1881, 1882, 1889, 1893, 1895, 1898, 1903, 1904, 1908,\n",
              "        1911, 1913, 1916, 1920, 1922, 1926, 1935, 1936, 1938, 1940, 1942,\n",
              "        1944, 1946, 1949, 1950, 1952, 1956, 1959, 1967, 1969, 1972, 1974,\n",
              "        1975, 1983, 1984, 1988, 1989, 2001, 2004, 2007, 2013, 2015, 2016,\n",
              "        2017, 2023, 2024, 2025, 2027, 2029, 2032, 2033, 2037, 2038, 2039,\n",
              "        2050, 2052, 2055, 2056, 2057, 2058, 2061, 2062, 2064, 2066, 2074,\n",
              "        2082, 2083, 2086, 2096, 2099, 2105, 2107, 2109, 2112, 2114, 2116,\n",
              "        2118, 2121, 2124, 2127, 2128, 2129, 2139, 2141, 2146, 2148, 2150,\n",
              "        2158, 2163, 2170, 2172, 2174, 2176, 2178, 2179, 2186, 2187, 2188,\n",
              "        2191, 2193, 2195, 2197, 2198, 2200, 2201, 2203, 2204, 2208, 2213,\n",
              "        2214, 2217, 2218, 2220, 2222, 2223, 2227, 2236, 2239, 2240, 2244,\n",
              "        2253, 2255, 2257, 2258, 2261, 2275, 2276, 2277, 2281, 2284, 2287,\n",
              "        2290, 2299, 2303, 2305, 2306, 2308, 2317, 2319, 2322, 2323, 2325,\n",
              "        2327, 2329, 2332, 2338, 2339, 2340, 2341, 2348, 2354, 2359, 2365,\n",
              "        2366, 2375, 2377, 2380, 2382, 2384, 2389, 2390, 2393, 2394, 2396]),)"
            ]
          },
          "metadata": {
            "tags": []
          },
          "execution_count": 41
        }
      ]
    },
    {
      "cell_type": "code",
      "metadata": {
        "id": "jrucgmntBrqQ",
        "colab_type": "code",
        "colab": {}
      },
      "source": [
        "import matplotlib.pyplot as plt\n"
      ],
      "execution_count": 43,
      "outputs": []
    },
    {
      "cell_type": "code",
      "metadata": {
        "id": "S4lFtjuaBYuu",
        "colab_type": "code",
        "colab": {
          "base_uri": "https://localhost:8080/",
          "height": 286
        },
        "outputId": "9c1f8ac1-d696-4243-bb7e-05e29b8d5dce"
      },
      "source": [
        "num = 2261 \n",
        "map_dict = {1: \"DOG\", 0: \"CAT\"}\n",
        "plt.imshow(x_test[num])\n",
        "print(f\"Model thinks it is {map_dict.get(y_pred_[num])} but actually it is {map_dict.get(y_test[num])}\")"
      ],
      "execution_count": 46,
      "outputs": [
        {
          "output_type": "stream",
          "text": [
            "Model thinks it is CAT but actually it is DOG\n"
          ],
          "name": "stdout"
        },
        {
          "output_type": "display_data",
          "data": {
            "image/png": "[encoded data removed]",
            "text/plain": [
              "<Figure size 432x288 with 1 Axes>"
            ]
          },
          "metadata": {
            "tags": [],
            "needs_background": "light"
          }
        }
      ]
    },
    {
      "cell_type": "code",
      "metadata": {
        "id": "_LX_JKytCM2l",
        "colab_type": "code",
        "colab": {}
      },
      "source": [
        "not_good_index = np.where(y_pred_ != y_test)"
      ],
      "execution_count": 49,
      "outputs": []
    },
    {
      "cell_type": "code",
      "metadata": {
        "id": "k6Xfx04tCUhW",
        "colab_type": "code",
        "colab": {
          "base_uri": "https://localhost:8080/",
          "height": 615
        },
        "outputId": "ee20255e-5e65-47e6-9b2a-35487221e86f"
      },
      "source": [
        "y_test[not_good_index]"
      ],
      "execution_count": 50,
      "outputs": [
        {
          "output_type": "execute_result",
          "data": {
            "text/plain": [
              "array([0, 1, 1, 0, 1, 0, 0, 0, 1, 0, 0, 1, 1, 0, 0, 1, 1, 1, 0, 0, 0, 1,\n",
              "       1, 0, 0, 1, 0, 0, 0, 1, 1, 0, 0, 0, 1, 0, 1, 1, 0, 1, 0, 0, 1, 0,\n",
              "       1, 1, 0, 1, 0, 0, 1, 0, 0, 1, 1, 0, 1, 1, 1, 0, 0, 0, 1, 1, 0, 1,\n",
              "       1, 0, 0, 1, 1, 1, 1, 0, 0, 0, 0, 1, 1, 1, 1, 0, 0, 1, 0, 1, 0, 1,\n",
              "       0, 1, 1, 0, 1, 0, 0, 1, 0, 1, 1, 0, 1, 0, 1, 1, 1, 0, 1, 1, 1, 1,\n",
              "       0, 1, 1, 0, 1, 1, 1, 0, 0, 1, 0, 1, 1, 1, 0, 0, 0, 0, 1, 0, 1, 0,\n",
              "       1, 0, 1, 0, 1, 1, 1, 0, 1, 0, 0, 0, 0, 1, 1, 1, 0, 1, 1, 1, 1, 1,\n",
              "       0, 1, 1, 1, 1, 1, 0, 0, 0, 1, 1, 1, 1, 0, 0, 1, 1, 0, 0, 1, 1, 1,\n",
              "       1, 1, 1, 1, 0, 0, 0, 1, 1, 0, 1, 0, 1, 0, 0, 0, 0, 0, 1, 0, 0, 1,\n",
              "       1, 0, 1, 0, 0, 1, 0, 0, 0, 1, 0, 0, 0, 0, 0, 1, 1, 0, 1, 1, 1, 0,\n",
              "       1, 1, 1, 1, 0, 1, 0, 0, 0, 1, 0, 0, 1, 0, 1, 1, 0, 1, 0, 0, 0, 0,\n",
              "       1, 0, 1, 0, 1, 0, 0, 0, 0, 1, 1, 0, 0, 1, 0, 0, 0, 1, 1, 1, 0, 0,\n",
              "       1, 0, 1, 1, 1, 0, 1, 0, 0, 0, 0, 1, 1, 1, 0, 1, 0, 0, 1, 1, 1, 0,\n",
              "       1, 1, 0, 0, 1, 1, 0, 1, 0, 1, 1, 1, 1, 0, 0, 1, 0, 0, 0, 1, 1, 1,\n",
              "       0, 1, 0, 1, 1, 0, 1, 0, 0, 1, 1, 0, 0, 0, 0, 0, 1, 0, 0, 0, 0, 1,\n",
              "       1, 1, 1, 0, 0, 0, 1, 0, 1, 0, 1, 0, 0, 1, 0, 0, 1, 1, 0, 0, 0, 0,\n",
              "       0, 1, 1, 1, 1, 1, 1, 1, 0, 0, 0, 0, 0, 0, 1, 0, 1, 0, 0, 0, 0, 1,\n",
              "       0, 0, 0, 1, 1, 1, 1, 0, 0, 0, 1, 0, 1, 0, 0, 1, 0, 1, 0, 1, 0, 1,\n",
              "       1, 0, 0, 0, 0, 0, 1, 1, 1, 0, 1, 0, 1, 0, 0, 1, 1, 1, 0, 0, 0, 0,\n",
              "       0, 1, 0, 1, 1, 0, 1, 1, 1, 0, 1, 1, 0, 0, 1, 1, 1, 0, 0, 0, 1, 0,\n",
              "       1, 0, 0, 0, 1, 1, 0, 0, 1, 0, 0, 1, 0, 1, 0, 1, 1, 1, 0, 0, 1, 0,\n",
              "       1, 1, 0, 1, 0, 0, 1, 0, 1, 0, 0, 0, 1, 0, 1, 0, 0, 0, 0, 1, 1, 1,\n",
              "       0, 1, 0, 0, 0, 0, 1, 1, 1, 0, 1, 1, 0, 1, 1, 0, 1, 0, 0, 0, 1, 0,\n",
              "       1, 1, 1, 0, 1, 1, 0, 1, 1, 0, 0, 1, 0, 0, 1, 1, 1, 1, 0, 1, 1, 1,\n",
              "       1, 0, 0, 0, 1, 1, 0, 1, 0, 0, 1, 0, 1, 0, 1, 0, 1, 0, 1, 1, 1, 0,\n",
              "       1, 0, 1, 1, 0, 0, 0, 0, 1, 1, 0, 0, 0, 0, 0, 0, 0, 0, 0, 1, 0, 0,\n",
              "       1, 1, 1, 0, 1, 0, 0, 1, 0, 0, 0, 0, 0, 0, 1, 1, 0, 0, 1, 1, 1, 1,\n",
              "       0, 0, 0, 0, 1, 0, 1, 0, 0, 1, 1, 1, 1, 1, 1, 1, 0, 0, 1, 1, 1, 0,\n",
              "       0, 0, 0, 0, 1, 0, 0, 0, 0, 1, 1, 0, 1, 0, 1, 0, 1, 1, 1, 0, 1, 1,\n",
              "       0, 1, 0, 1, 0, 0, 1, 0, 0, 0, 0, 0, 1, 0, 0, 1, 1, 0, 1, 0, 0, 0,\n",
              "       1, 1, 0, 1, 0, 0, 0, 0, 1, 1, 0, 1, 1, 0, 1, 0, 1, 0, 1, 0, 0, 1,\n",
              "       0, 1, 1, 0, 1, 0, 1, 1, 0, 1, 1, 1, 1, 1, 0, 1, 0, 0, 0, 0, 0, 0,\n",
              "       1, 1, 0, 1, 1, 0, 0, 0, 1, 1, 1, 1, 0, 1, 0, 0, 1, 1, 1, 0, 0, 1,\n",
              "       0, 1, 0, 0, 1, 0, 0, 1, 1, 0, 0])"
            ]
          },
          "metadata": {
            "tags": []
          },
          "execution_count": 50
        }
      ]
    },
    {
      "cell_type": "code",
      "metadata": {
        "id": "0xc-NaB4BqQJ",
        "colab_type": "code",
        "colab": {}
      },
      "source": [
        "from sklearn.metrics import confusion_matrix"
      ],
      "execution_count": 47,
      "outputs": []
    },
    {
      "cell_type": "code",
      "metadata": {
        "id": "p8r9dcM5CFwZ",
        "colab_type": "code",
        "colab": {
          "base_uri": "https://localhost:8080/",
          "height": 52
        },
        "outputId": "6e3a8421-4ca6-424c-a5c7-5961a1d9da12"
      },
      "source": [
        "confusion_matrix(y_test, y_pred_)"
      ],
      "execution_count": 48,
      "outputs": [
        {
          "output_type": "execute_result",
          "data": {
            "text/plain": [
              "array([[834, 379],\n",
              "       [358, 829]])"
            ]
          },
          "metadata": {
            "tags": []
          },
          "execution_count": 48
        }
      ]
    },
    {
      "cell_type": "code",
      "metadata": {
        "id": "_blwBAUGCIrx",
        "colab_type": "code",
        "colab": {}
      },
      "source": [
        "# Increase Model accuracy - CNN "
      ],
      "execution_count": 51,
      "outputs": []
    },
    {
      "cell_type": "code",
      "metadata": {
        "id": "ymwCFg35CqW8",
        "colab_type": "code",
        "colab": {}
      },
      "source": [
        "# RAM Issue - CNN, Image Data Generator"
      ],
      "execution_count": 52,
      "outputs": []
    },
    {
      "cell_type": "code",
      "metadata": {
        "id": "16PpdTwlCufj",
        "colab_type": "code",
        "colab": {}
      },
      "source": [
        ""
      ],
      "execution_count": null,
      "outputs": []
    }
  ]
}