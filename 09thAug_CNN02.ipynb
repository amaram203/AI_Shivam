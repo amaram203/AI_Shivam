{
  "nbformat": 4,
  "nbformat_minor": 0,
  "metadata": {
    "colab": {
      "name": "09thAug CNN02.ipynb",
      "provenance": [],
      "collapsed_sections": []
    },
    "kernelspec": {
      "name": "python3",
      "display_name": "Python 3"
    }
  },
  "cells": [
    {
      "cell_type": "code",
      "metadata": {
        "id": "GTXRpleIp7yt",
        "colab_type": "code",
        "colab": {}
      },
      "source": [
        "# Fully Connected Neural Network -\n",
        "# - It has 3 layers \n",
        "#   - Input Layer - 8 neuron(s) \n",
        "#   - Hidden Layer - 5 neuron(s) \n",
        "#   - Output Layer - 1 neuron(s)"
      ],
      "execution_count": null,
      "outputs": []
    },
    {
      "cell_type": "code",
      "metadata": {
        "id": "oJXiJDVQqSxQ",
        "colab_type": "code",
        "colab": {}
      },
      "source": [
        "# Q. How many number of Weights & Biases ?? \n",
        "# Weights between I & H - 8*5 \n",
        "# Weights between H & O - 5*1 \n",
        "\n",
        "# Bias between I & H - 5 \n",
        "# Bias between H & O - 1 "
      ],
      "execution_count": null,
      "outputs": []
    },
    {
      "cell_type": "code",
      "metadata": {
        "id": "31VL6OKOqz3k",
        "colab_type": "code",
        "colab": {}
      },
      "source": [
        "import tensorflow as tf\n",
        "from tensorflow.keras.applications import VGG16"
      ],
      "execution_count": null,
      "outputs": []
    },
    {
      "cell_type": "code",
      "metadata": {
        "id": "lFuteymUymyM",
        "colab_type": "code",
        "colab": {
          "base_uri": "https://localhost:8080/",
          "height": 52
        },
        "outputId": "70ad2f1b-261b-4d09-cdb4-e23d6db9a6cd"
      },
      "source": [
        "model = VGG16()"
      ],
      "execution_count": null,
      "outputs": [
        {
          "output_type": "stream",
          "text": [
            "Downloading data from https://storage.googleapis.com/tensorflow/keras-applications/vgg16/vgg16_weights_tf_dim_ordering_tf_kernels.h5\n",
            "553467904/553467096 [==============================] - 18s 0us/step\n"
          ],
          "name": "stdout"
        }
      ]
    },
    {
      "cell_type": "code",
      "metadata": {
        "id": "Ipha9HR93lWU",
        "colab_type": "code",
        "colab": {
          "base_uri": "https://localhost:8080/",
          "height": 52
        },
        "outputId": "ed29f976-bfbc-4395-fa49-34982553b2ae"
      },
      "source": [
        "# of Filters * (cells inside filter) * # of channels  + bias \n",
        "print(64*(3*3)*3  + 64)\n",
        "print(64*(3*3)*64 + 64)"
      ],
      "execution_count": null,
      "outputs": [
        {
          "output_type": "stream",
          "text": [
            "1792\n",
            "36928\n"
          ],
          "name": "stdout"
        }
      ]
    },
    {
      "cell_type": "code",
      "metadata": {
        "id": "S7hKlfaLyrkt",
        "colab_type": "code",
        "colab": {
          "base_uri": "https://localhost:8080/",
          "height": 967
        },
        "outputId": "6779477e-535d-4d34-9dcf-d2345c7bfbb7"
      },
      "source": [
        "model.summary()"
      ],
      "execution_count": null,
      "outputs": [
        {
          "output_type": "stream",
          "text": [
            "Model: \"vgg16\"\n",
            "_________________________________________________________________\n",
            "Layer (type)                 Output Shape              Param #   \n",
            "=================================================================\n",
            "input_1 (InputLayer)         [(None, 224, 224, 3)]     0         \n",
            "_________________________________________________________________\n",
            "block1_conv1 (Conv2D)        (None, 224, 224, 64)      1792      \n",
            "_________________________________________________________________\n",
            "block1_conv2 (Conv2D)        (None, 224, 224, 64)      36928     \n",
            "_________________________________________________________________\n",
            "block1_pool (MaxPooling2D)   (None, 112, 112, 64)      0         \n",
            "_________________________________________________________________\n",
            "block2_conv1 (Conv2D)        (None, 112, 112, 128)     73856     \n",
            "_________________________________________________________________\n",
            "block2_conv2 (Conv2D)        (None, 112, 112, 128)     147584    \n",
            "_________________________________________________________________\n",
            "block2_pool (MaxPooling2D)   (None, 56, 56, 128)       0         \n",
            "_________________________________________________________________\n",
            "block3_conv1 (Conv2D)        (None, 56, 56, 256)       295168    \n",
            "_________________________________________________________________\n",
            "block3_conv2 (Conv2D)        (None, 56, 56, 256)       590080    \n",
            "_________________________________________________________________\n",
            "block3_conv3 (Conv2D)        (None, 56, 56, 256)       590080    \n",
            "_________________________________________________________________\n",
            "block3_pool (MaxPooling2D)   (None, 28, 28, 256)       0         \n",
            "_________________________________________________________________\n",
            "block4_conv1 (Conv2D)        (None, 28, 28, 512)       1180160   \n",
            "_________________________________________________________________\n",
            "block4_conv2 (Conv2D)        (None, 28, 28, 512)       2359808   \n",
            "_________________________________________________________________\n",
            "block4_conv3 (Conv2D)        (None, 28, 28, 512)       2359808   \n",
            "_________________________________________________________________\n",
            "block4_pool (MaxPooling2D)   (None, 14, 14, 512)       0         \n",
            "_________________________________________________________________\n",
            "block5_conv1 (Conv2D)        (None, 14, 14, 512)       2359808   \n",
            "_________________________________________________________________\n",
            "block5_conv2 (Conv2D)        (None, 14, 14, 512)       2359808   \n",
            "_________________________________________________________________\n",
            "block5_conv3 (Conv2D)        (None, 14, 14, 512)       2359808   \n",
            "_________________________________________________________________\n",
            "block5_pool (MaxPooling2D)   (None, 7, 7, 512)         0         \n",
            "_________________________________________________________________\n",
            "flatten (Flatten)            (None, 25088)             0         \n",
            "_________________________________________________________________\n",
            "fc1 (Dense)                  (None, 4096)              102764544 \n",
            "_________________________________________________________________\n",
            "fc2 (Dense)                  (None, 4096)              16781312  \n",
            "_________________________________________________________________\n",
            "predictions (Dense)          (None, 1000)              4097000   \n",
            "=================================================================\n",
            "Total params: 138,357,544\n",
            "Trainable params: 138,357,544\n",
            "Non-trainable params: 0\n",
            "_________________________________________________________________\n"
          ],
          "name": "stdout"
        }
      ]
    },
    {
      "cell_type": "code",
      "metadata": {
        "id": "_FnfSDi5yt1_",
        "colab_type": "code",
        "colab": {}
      },
      "source": [
        "from pprint import pprint"
      ],
      "execution_count": null,
      "outputs": []
    },
    {
      "cell_type": "code",
      "metadata": {
        "id": "o-XcwNXl2pye",
        "colab_type": "code",
        "colab": {
          "base_uri": "https://localhost:8080/",
          "height": 1000
        },
        "outputId": "32befb1b-f261-4283-ceac-af5f6e33904d"
      },
      "source": [
        "pprint(model.to_json())"
      ],
      "execution_count": null,
      "outputs": [
        {
          "output_type": "stream",
          "text": [
            "('{\"class_name\": \"Functional\", \"config\": {\"name\": \"vgg16\", \"layers\": '\n",
            " '[{\"class_name\": \"InputLayer\", \"config\": {\"batch_input_shape\": [null, 224, '\n",
            " '224, 3], \"dtype\": \"float32\", \"sparse\": false, \"ragged\": false, \"name\": '\n",
            " '\"input_1\"}, \"name\": \"input_1\", \"inbound_nodes\": []}, {\"class_name\": '\n",
            " '\"Conv2D\", \"config\": {\"name\": \"block1_conv1\", \"trainable\": true, \"dtype\": '\n",
            " '\"float32\", \"filters\": 64, \"kernel_size\": [3, 3], \"strides\": [1, 1], '\n",
            " '\"padding\": \"same\", \"data_format\": \"channels_last\", \"dilation_rate\": [1, 1], '\n",
            " '\"groups\": 1, \"activation\": \"relu\", \"use_bias\": true, \"kernel_initializer\": '\n",
            " '{\"class_name\": \"GlorotUniform\", \"config\": {\"seed\": null}}, '\n",
            " '\"bias_initializer\": {\"class_name\": \"Zeros\", \"config\": {}}, '\n",
            " '\"kernel_regularizer\": null, \"bias_regularizer\": null, '\n",
            " '\"activity_regularizer\": null, \"kernel_constraint\": null, \"bias_constraint\": '\n",
            " 'null}, \"name\": \"block1_conv1\", \"inbound_nodes\": [[[\"input_1\", 0, 0, {}]]]}, '\n",
            " '{\"class_name\": \"Conv2D\", \"config\": {\"name\": \"block1_conv2\", \"trainable\": '\n",
            " 'true, \"dtype\": \"float32\", \"filters\": 64, \"kernel_size\": [3, 3], \"strides\": '\n",
            " '[1, 1], \"padding\": \"same\", \"data_format\": \"channels_last\", \"dilation_rate\": '\n",
            " '[1, 1], \"groups\": 1, \"activation\": \"relu\", \"use_bias\": true, '\n",
            " '\"kernel_initializer\": {\"class_name\": \"GlorotUniform\", \"config\": {\"seed\": '\n",
            " 'null}}, \"bias_initializer\": {\"class_name\": \"Zeros\", \"config\": {}}, '\n",
            " '\"kernel_regularizer\": null, \"bias_regularizer\": null, '\n",
            " '\"activity_regularizer\": null, \"kernel_constraint\": null, \"bias_constraint\": '\n",
            " 'null}, \"name\": \"block1_conv2\", \"inbound_nodes\": [[[\"block1_conv1\", 0, 0, '\n",
            " '{}]]]}, {\"class_name\": \"MaxPooling2D\", \"config\": {\"name\": \"block1_pool\", '\n",
            " '\"trainable\": true, \"dtype\": \"float32\", \"pool_size\": [2, 2], \"padding\": '\n",
            " '\"valid\", \"strides\": [2, 2], \"data_format\": \"channels_last\"}, \"name\": '\n",
            " '\"block1_pool\", \"inbound_nodes\": [[[\"block1_conv2\", 0, 0, {}]]]}, '\n",
            " '{\"class_name\": \"Conv2D\", \"config\": {\"name\": \"block2_conv1\", \"trainable\": '\n",
            " 'true, \"dtype\": \"float32\", \"filters\": 128, \"kernel_size\": [3, 3], \"strides\": '\n",
            " '[1, 1], \"padding\": \"same\", \"data_format\": \"channels_last\", \"dilation_rate\": '\n",
            " '[1, 1], \"groups\": 1, \"activation\": \"relu\", \"use_bias\": true, '\n",
            " '\"kernel_initializer\": {\"class_name\": \"GlorotUniform\", \"config\": {\"seed\": '\n",
            " 'null}}, \"bias_initializer\": {\"class_name\": \"Zeros\", \"config\": {}}, '\n",
            " '\"kernel_regularizer\": null, \"bias_regularizer\": null, '\n",
            " '\"activity_regularizer\": null, \"kernel_constraint\": null, \"bias_constraint\": '\n",
            " 'null}, \"name\": \"block2_conv1\", \"inbound_nodes\": [[[\"block1_pool\", 0, 0, '\n",
            " '{}]]]}, {\"class_name\": \"Conv2D\", \"config\": {\"name\": \"block2_conv2\", '\n",
            " '\"trainable\": true, \"dtype\": \"float32\", \"filters\": 128, \"kernel_size\": [3, '\n",
            " '3], \"strides\": [1, 1], \"padding\": \"same\", \"data_format\": \"channels_last\", '\n",
            " '\"dilation_rate\": [1, 1], \"groups\": 1, \"activation\": \"relu\", \"use_bias\": '\n",
            " 'true, \"kernel_initializer\": {\"class_name\": \"GlorotUniform\", \"config\": '\n",
            " '{\"seed\": null}}, \"bias_initializer\": {\"class_name\": \"Zeros\", \"config\": {}}, '\n",
            " '\"kernel_regularizer\": null, \"bias_regularizer\": null, '\n",
            " '\"activity_regularizer\": null, \"kernel_constraint\": null, \"bias_constraint\": '\n",
            " 'null}, \"name\": \"block2_conv2\", \"inbound_nodes\": [[[\"block2_conv1\", 0, 0, '\n",
            " '{}]]]}, {\"class_name\": \"MaxPooling2D\", \"config\": {\"name\": \"block2_pool\", '\n",
            " '\"trainable\": true, \"dtype\": \"float32\", \"pool_size\": [2, 2], \"padding\": '\n",
            " '\"valid\", \"strides\": [2, 2], \"data_format\": \"channels_last\"}, \"name\": '\n",
            " '\"block2_pool\", \"inbound_nodes\": [[[\"block2_conv2\", 0, 0, {}]]]}, '\n",
            " '{\"class_name\": \"Conv2D\", \"config\": {\"name\": \"block3_conv1\", \"trainable\": '\n",
            " 'true, \"dtype\": \"float32\", \"filters\": 256, \"kernel_size\": [3, 3], \"strides\": '\n",
            " '[1, 1], \"padding\": \"same\", \"data_format\": \"channels_last\", \"dilation_rate\": '\n",
            " '[1, 1], \"groups\": 1, \"activation\": \"relu\", \"use_bias\": true, '\n",
            " '\"kernel_initializer\": {\"class_name\": \"GlorotUniform\", \"config\": {\"seed\": '\n",
            " 'null}}, \"bias_initializer\": {\"class_name\": \"Zeros\", \"config\": {}}, '\n",
            " '\"kernel_regularizer\": null, \"bias_regularizer\": null, '\n",
            " '\"activity_regularizer\": null, \"kernel_constraint\": null, \"bias_constraint\": '\n",
            " 'null}, \"name\": \"block3_conv1\", \"inbound_nodes\": [[[\"block2_pool\", 0, 0, '\n",
            " '{}]]]}, {\"class_name\": \"Conv2D\", \"config\": {\"name\": \"block3_conv2\", '\n",
            " '\"trainable\": true, \"dtype\": \"float32\", \"filters\": 256, \"kernel_size\": [3, '\n",
            " '3], \"strides\": [1, 1], \"padding\": \"same\", \"data_format\": \"channels_last\", '\n",
            " '\"dilation_rate\": [1, 1], \"groups\": 1, \"activation\": \"relu\", \"use_bias\": '\n",
            " 'true, \"kernel_initializer\": {\"class_name\": \"GlorotUniform\", \"config\": '\n",
            " '{\"seed\": null}}, \"bias_initializer\": {\"class_name\": \"Zeros\", \"config\": {}}, '\n",
            " '\"kernel_regularizer\": null, \"bias_regularizer\": null, '\n",
            " '\"activity_regularizer\": null, \"kernel_constraint\": null, \"bias_constraint\": '\n",
            " 'null}, \"name\": \"block3_conv2\", \"inbound_nodes\": [[[\"block3_conv1\", 0, 0, '\n",
            " '{}]]]}, {\"class_name\": \"Conv2D\", \"config\": {\"name\": \"block3_conv3\", '\n",
            " '\"trainable\": true, \"dtype\": \"float32\", \"filters\": 256, \"kernel_size\": [3, '\n",
            " '3], \"strides\": [1, 1], \"padding\": \"same\", \"data_format\": \"channels_last\", '\n",
            " '\"dilation_rate\": [1, 1], \"groups\": 1, \"activation\": \"relu\", \"use_bias\": '\n",
            " 'true, \"kernel_initializer\": {\"class_name\": \"GlorotUniform\", \"config\": '\n",
            " '{\"seed\": null}}, \"bias_initializer\": {\"class_name\": \"Zeros\", \"config\": {}}, '\n",
            " '\"kernel_regularizer\": null, \"bias_regularizer\": null, '\n",
            " '\"activity_regularizer\": null, \"kernel_constraint\": null, \"bias_constraint\": '\n",
            " 'null}, \"name\": \"block3_conv3\", \"inbound_nodes\": [[[\"block3_conv2\", 0, 0, '\n",
            " '{}]]]}, {\"class_name\": \"MaxPooling2D\", \"config\": {\"name\": \"block3_pool\", '\n",
            " '\"trainable\": true, \"dtype\": \"float32\", \"pool_size\": [2, 2], \"padding\": '\n",
            " '\"valid\", \"strides\": [2, 2], \"data_format\": \"channels_last\"}, \"name\": '\n",
            " '\"block3_pool\", \"inbound_nodes\": [[[\"block3_conv3\", 0, 0, {}]]]}, '\n",
            " '{\"class_name\": \"Conv2D\", \"config\": {\"name\": \"block4_conv1\", \"trainable\": '\n",
            " 'true, \"dtype\": \"float32\", \"filters\": 512, \"kernel_size\": [3, 3], \"strides\": '\n",
            " '[1, 1], \"padding\": \"same\", \"data_format\": \"channels_last\", \"dilation_rate\": '\n",
            " '[1, 1], \"groups\": 1, \"activation\": \"relu\", \"use_bias\": true, '\n",
            " '\"kernel_initializer\": {\"class_name\": \"GlorotUniform\", \"config\": {\"seed\": '\n",
            " 'null}}, \"bias_initializer\": {\"class_name\": \"Zeros\", \"config\": {}}, '\n",
            " '\"kernel_regularizer\": null, \"bias_regularizer\": null, '\n",
            " '\"activity_regularizer\": null, \"kernel_constraint\": null, \"bias_constraint\": '\n",
            " 'null}, \"name\": \"block4_conv1\", \"inbound_nodes\": [[[\"block3_pool\", 0, 0, '\n",
            " '{}]]]}, {\"class_name\": \"Conv2D\", \"config\": {\"name\": \"block4_conv2\", '\n",
            " '\"trainable\": true, \"dtype\": \"float32\", \"filters\": 512, \"kernel_size\": [3, '\n",
            " '3], \"strides\": [1, 1], \"padding\": \"same\", \"data_format\": \"channels_last\", '\n",
            " '\"dilation_rate\": [1, 1], \"groups\": 1, \"activation\": \"relu\", \"use_bias\": '\n",
            " 'true, \"kernel_initializer\": {\"class_name\": \"GlorotUniform\", \"config\": '\n",
            " '{\"seed\": null}}, \"bias_initializer\": {\"class_name\": \"Zeros\", \"config\": {}}, '\n",
            " '\"kernel_regularizer\": null, \"bias_regularizer\": null, '\n",
            " '\"activity_regularizer\": null, \"kernel_constraint\": null, \"bias_constraint\": '\n",
            " 'null}, \"name\": \"block4_conv2\", \"inbound_nodes\": [[[\"block4_conv1\", 0, 0, '\n",
            " '{}]]]}, {\"class_name\": \"Conv2D\", \"config\": {\"name\": \"block4_conv3\", '\n",
            " '\"trainable\": true, \"dtype\": \"float32\", \"filters\": 512, \"kernel_size\": [3, '\n",
            " '3], \"strides\": [1, 1], \"padding\": \"same\", \"data_format\": \"channels_last\", '\n",
            " '\"dilation_rate\": [1, 1], \"groups\": 1, \"activation\": \"relu\", \"use_bias\": '\n",
            " 'true, \"kernel_initializer\": {\"class_name\": \"GlorotUniform\", \"config\": '\n",
            " '{\"seed\": null}}, \"bias_initializer\": {\"class_name\": \"Zeros\", \"config\": {}}, '\n",
            " '\"kernel_regularizer\": null, \"bias_regularizer\": null, '\n",
            " '\"activity_regularizer\": null, \"kernel_constraint\": null, \"bias_constraint\": '\n",
            " 'null}, \"name\": \"block4_conv3\", \"inbound_nodes\": [[[\"block4_conv2\", 0, 0, '\n",
            " '{}]]]}, {\"class_name\": \"MaxPooling2D\", \"config\": {\"name\": \"block4_pool\", '\n",
            " '\"trainable\": true, \"dtype\": \"float32\", \"pool_size\": [2, 2], \"padding\": '\n",
            " '\"valid\", \"strides\": [2, 2], \"data_format\": \"channels_last\"}, \"name\": '\n",
            " '\"block4_pool\", \"inbound_nodes\": [[[\"block4_conv3\", 0, 0, {}]]]}, '\n",
            " '{\"class_name\": \"Conv2D\", \"config\": {\"name\": \"block5_conv1\", \"trainable\": '\n",
            " 'true, \"dtype\": \"float32\", \"filters\": 512, \"kernel_size\": [3, 3], \"strides\": '\n",
            " '[1, 1], \"padding\": \"same\", \"data_format\": \"channels_last\", \"dilation_rate\": '\n",
            " '[1, 1], \"groups\": 1, \"activation\": \"relu\", \"use_bias\": true, '\n",
            " '\"kernel_initializer\": {\"class_name\": \"GlorotUniform\", \"config\": {\"seed\": '\n",
            " 'null}}, \"bias_initializer\": {\"class_name\": \"Zeros\", \"config\": {}}, '\n",
            " '\"kernel_regularizer\": null, \"bias_regularizer\": null, '\n",
            " '\"activity_regularizer\": null, \"kernel_constraint\": null, \"bias_constraint\": '\n",
            " 'null}, \"name\": \"block5_conv1\", \"inbound_nodes\": [[[\"block4_pool\", 0, 0, '\n",
            " '{}]]]}, {\"class_name\": \"Conv2D\", \"config\": {\"name\": \"block5_conv2\", '\n",
            " '\"trainable\": true, \"dtype\": \"float32\", \"filters\": 512, \"kernel_size\": [3, '\n",
            " '3], \"strides\": [1, 1], \"padding\": \"same\", \"data_format\": \"channels_last\", '\n",
            " '\"dilation_rate\": [1, 1], \"groups\": 1, \"activation\": \"relu\", \"use_bias\": '\n",
            " 'true, \"kernel_initializer\": {\"class_name\": \"GlorotUniform\", \"config\": '\n",
            " '{\"seed\": null}}, \"bias_initializer\": {\"class_name\": \"Zeros\", \"config\": {}}, '\n",
            " '\"kernel_regularizer\": null, \"bias_regularizer\": null, '\n",
            " '\"activity_regularizer\": null, \"kernel_constraint\": null, \"bias_constraint\": '\n",
            " 'null}, \"name\": \"block5_conv2\", \"inbound_nodes\": [[[\"block5_conv1\", 0, 0, '\n",
            " '{}]]]}, {\"class_name\": \"Conv2D\", \"config\": {\"name\": \"block5_conv3\", '\n",
            " '\"trainable\": true, \"dtype\": \"float32\", \"filters\": 512, \"kernel_size\": [3, '\n",
            " '3], \"strides\": [1, 1], \"padding\": \"same\", \"data_format\": \"channels_last\", '\n",
            " '\"dilation_rate\": [1, 1], \"groups\": 1, \"activation\": \"relu\", \"use_bias\": '\n",
            " 'true, \"kernel_initializer\": {\"class_name\": \"GlorotUniform\", \"config\": '\n",
            " '{\"seed\": null}}, \"bias_initializer\": {\"class_name\": \"Zeros\", \"config\": {}}, '\n",
            " '\"kernel_regularizer\": null, \"bias_regularizer\": null, '\n",
            " '\"activity_regularizer\": null, \"kernel_constraint\": null, \"bias_constraint\": '\n",
            " 'null}, \"name\": \"block5_conv3\", \"inbound_nodes\": [[[\"block5_conv2\", 0, 0, '\n",
            " '{}]]]}, {\"class_name\": \"MaxPooling2D\", \"config\": {\"name\": \"block5_pool\", '\n",
            " '\"trainable\": true, \"dtype\": \"float32\", \"pool_size\": [2, 2], \"padding\": '\n",
            " '\"valid\", \"strides\": [2, 2], \"data_format\": \"channels_last\"}, \"name\": '\n",
            " '\"block5_pool\", \"inbound_nodes\": [[[\"block5_conv3\", 0, 0, {}]]]}, '\n",
            " '{\"class_name\": \"Flatten\", \"config\": {\"name\": \"flatten\", \"trainable\": true, '\n",
            " '\"dtype\": \"float32\", \"data_format\": \"channels_last\"}, \"name\": \"flatten\", '\n",
            " '\"inbound_nodes\": [[[\"block5_pool\", 0, 0, {}]]]}, {\"class_name\": \"Dense\", '\n",
            " '\"config\": {\"name\": \"fc1\", \"trainable\": true, \"dtype\": \"float32\", \"units\": '\n",
            " '4096, \"activation\": \"relu\", \"use_bias\": true, \"kernel_initializer\": '\n",
            " '{\"class_name\": \"GlorotUniform\", \"config\": {\"seed\": null}}, '\n",
            " '\"bias_initializer\": {\"class_name\": \"Zeros\", \"config\": {}}, '\n",
            " '\"kernel_regularizer\": null, \"bias_regularizer\": null, '\n",
            " '\"activity_regularizer\": null, \"kernel_constraint\": null, \"bias_constraint\": '\n",
            " 'null}, \"name\": \"fc1\", \"inbound_nodes\": [[[\"flatten\", 0, 0, {}]]]}, '\n",
            " '{\"class_name\": \"Dense\", \"config\": {\"name\": \"fc2\", \"trainable\": true, '\n",
            " '\"dtype\": \"float32\", \"units\": 4096, \"activation\": \"relu\", \"use_bias\": true, '\n",
            " '\"kernel_initializer\": {\"class_name\": \"GlorotUniform\", \"config\": {\"seed\": '\n",
            " 'null}}, \"bias_initializer\": {\"class_name\": \"Zeros\", \"config\": {}}, '\n",
            " '\"kernel_regularizer\": null, \"bias_regularizer\": null, '\n",
            " '\"activity_regularizer\": null, \"kernel_constraint\": null, \"bias_constraint\": '\n",
            " 'null}, \"name\": \"fc2\", \"inbound_nodes\": [[[\"fc1\", 0, 0, {}]]]}, '\n",
            " '{\"class_name\": \"Dense\", \"config\": {\"name\": \"predictions\", \"trainable\": true, '\n",
            " '\"dtype\": \"float32\", \"units\": 1000, \"activation\": \"softmax\", \"use_bias\": '\n",
            " 'true, \"kernel_initializer\": {\"class_name\": \"GlorotUniform\", \"config\": '\n",
            " '{\"seed\": null}}, \"bias_initializer\": {\"class_name\": \"Zeros\", \"config\": {}}, '\n",
            " '\"kernel_regularizer\": null, \"bias_regularizer\": null, '\n",
            " '\"activity_regularizer\": null, \"kernel_constraint\": null, \"bias_constraint\": '\n",
            " 'null}, \"name\": \"predictions\", \"inbound_nodes\": [[[\"fc2\", 0, 0, {}]]]}], '\n",
            " '\"input_layers\": [[\"input_1\", 0, 0]], \"output_layers\": [[\"predictions\", 0, '\n",
            " '0]]}, \"keras_version\": \"2.4.0\", \"backend\": \"tensorflow\"}')\n"
          ],
          "name": "stdout"
        }
      ]
    },
    {
      "cell_type": "code",
      "metadata": {
        "id": "yeCblifc2svz",
        "colab_type": "code",
        "colab": {}
      },
      "source": [
        ""
      ],
      "execution_count": null,
      "outputs": []
    }
  ]
}